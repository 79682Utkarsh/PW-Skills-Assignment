{
  "nbformat": 4,
  "nbformat_minor": 0,
  "metadata": {
    "colab": {
      "provenance": []
    },
    "kernelspec": {
      "name": "python3",
      "display_name": "Python 3"
    },
    "language_info": {
      "name": "python"
    }
  },
  "cells": [
    {
      "cell_type": "markdown",
      "source": [
        "**Que 1:-  What is a RESTful API?**\n",
        "\n",
        "Ans:- A RESTful API (Representational State Transfer API) is a web service that adheres to REST architectural principles. It uses standard HTTP methods (GET, POST, PUT, DELETE) to perform CRUD operations on resources, which are identified by URLs. RESTful APIs are stateless and rely on standard HTTP status codes\n"
      ],
      "metadata": {
        "id": "kDWQMtrFLwK9"
      }
    },
    {
      "cell_type": "markdown",
      "source": [
        "**Que 2:- Explain the concept of API specification?**\n",
        "\n",
        "Ans:- An API specification defines how an API behaves and interacts with clients. It includes details about endpoints, HTTP methods, request/response formats, parameters, authentication methods, and error codes. Examples include OpenAPI (Swagger), which allows for standardized documentation and testing."
      ],
      "metadata": {
        "id": "-h30no2KOLFQ"
      }
    },
    {
      "cell_type": "markdown",
      "source": [
        "\n",
        "**Que 3:- What is Flask, and why is it popular for building APIs?**\n",
        "\n",
        "Ans:- Flask is a lightweight and flexible Python web framework used for building web applications and APIs. It is popular because of its simplicity, minimalism, and extensive documentation. It allows rapid development and is easily extensible with plugins and extensions like Flask-RESTful.\n"
      ],
      "metadata": {
        "id": "uqKrxPn4Plls"
      }
    },
    {
      "cell_type": "markdown",
      "source": [
        "**Que 4:-  What is routing in Flask?**\n",
        "\n",
        "Ans:- Routing in Flask is the process of mapping URLs to specific functions in the application. These functions handle requests to particular endpoints. Flask uses the @app.route() decorator to define routes, enabling the application to respond to specific HTTP requests.\n"
      ],
      "metadata": {
        "id": "wzJzjeCeRS5s"
      }
    },
    {
      "cell_type": "markdown",
      "source": [
        "**Que 5:- How do you create a simple Flask application?**\n",
        "\n",
        "Ans:-\n",
        "\n",
        "```\n",
        "from flask import Flask\n",
        "\n",
        "app = Flask(__name__)\n",
        "\n",
        "@app.route('/')\n",
        "def home():\n",
        "    return 'Hello, Utkarsh!'\n",
        "\n",
        "if __name__ == '__main__':\n",
        "    app.run(debug=True)\n",
        "\n",
        "```\n",
        "\n"
      ],
      "metadata": {
        "id": "-nbAtz7eSXJk"
      }
    },
    {
      "cell_type": "markdown",
      "source": [
        "**Que 6:- What are HTTP methods used in RESTful APIs?**\n",
        "\n",
        "Ans:-\n",
        "\n",
        "GET – Retrieve data from the server\n",
        "\n",
        "POST – Submit new data to the server\n",
        "\n",
        "PUT – Update existing data\n",
        "\n",
        "DELETE – Remove data\n",
        "\n",
        "PATCH – Partially update data\n",
        "These methods allow RESTful APIs to perform CRUD operations.\n",
        "\n"
      ],
      "metadata": {
        "id": "ivUmOmRRTZs9"
      }
    },
    {
      "cell_type": "markdown",
      "source": [
        "**Que 7:- What is the purpose of the @app.route() decorator in Flask?**\n",
        "\n",
        "Ans:- The @app.route() decorator is used to bind a URL to a Python function. This function is called when a request is made to the specified URL, allowing Flask to handle routing logic."
      ],
      "metadata": {
        "id": "PhJbWAbYV8Mq"
      }
    },
    {
      "cell_type": "markdown",
      "source": [
        "**Que 8:-  What is the difference between GET and POST HTTP methods?**\n",
        "\n",
        "Ans:-\n",
        "GET requests retrieve data and do not change the server state. Parameters are sent in the URL.\n",
        "\n",
        "POST requests send data to the server, usually to create resources. Data is sent in the body of the request and not visible in the URL."
      ],
      "metadata": {
        "id": "2WECqajqYflC"
      }
    },
    {
      "cell_type": "markdown",
      "source": [
        "**Que 9 :- How do you handle errors in Flask APIs?**\n",
        "\n",
        "Ans:- Errors in Flask can be handled using:\n",
        "\n",
        "Custom error handlers with @app.errorhandler()\n",
        "\n",
        "Returning appropriate HTTP status codes\n",
        "\n",
        "Using try-except blocks to catch exceptions and return structured error responses\n",
        "\n",
        "\n",
        "\n",
        "```\n",
        "@app.errorhandler(404)\n",
        "def not_found(error):\n",
        "    return {'error': 'Not Found'}, 404\n",
        "\n",
        "```\n",
        "\n"
      ],
      "metadata": {
        "id": "AZN5DCIEabUh"
      }
    },
    {
      "cell_type": "markdown",
      "source": [
        "**Que 10:-How do you connect Flask to a SQL database?**\n",
        "\n",
        "Ans:- You can use SQLAlchemy or Flask-SQLAlchemy to connect to a SQL database.\n",
        "\n",
        "\n",
        "\n",
        "```\n",
        "from flask_sqlalchemy import SQLAlchemy\n",
        "\n",
        "app.config['SQLALCHEMY_DATABASE_URI'] = 'sqlite:///localhost.db'\n",
        "db = SQLAlchemy(app)\n",
        "\n",
        "```\n",
        "\n"
      ],
      "metadata": {
        "id": "41FDak2Ymc-q"
      }
    },
    {
      "cell_type": "markdown",
      "source": [
        "**Que 11:-  What is the role of Flask-SQLAlchemy?**\n",
        "\n",
        "Ans:- Flask-SQLAlchemy is an extension for Flask that integrates SQLAlchemy, a powerful Object Relational Mapper (ORM), with Flask applications. It plays a crucial role in enabling Flask apps to interact with relational databases in an object-oriented manner."
      ],
      "metadata": {
        "id": "pWLuKWHqpF78"
      }
    },
    {
      "cell_type": "markdown",
      "source": [
        "**Que 12:- What are Flask blueprints, and how are they useful?**\n",
        "\n",
        "Ans:- Flask blueprints are a way to organize a Flask application into smaller, modular components. Each blueprint can contain routes, templates, and static files. They help in structuring large applications, promoting reusability and maintainability."
      ],
      "metadata": {
        "id": "SqGGCzwiy4hG"
      }
    },
    {
      "cell_type": "markdown",
      "source": [
        "**Que 13:- What is the purpose of Flask's request object?**\n",
        "\n",
        "Ans:- The request object in Flask is used to access incoming request data such as form inputs, query parameters, JSON data, HTTP method, headers, and more. It allows developers to handle client data in a secure and structured way."
      ],
      "metadata": {
        "id": "j9Essva3zhJJ"
      }
    },
    {
      "cell_type": "markdown",
      "source": [
        "**Que 14:- How do you create a RESTful API endpoint using Flask?**\n",
        "\n",
        "Ans:-\n",
        "\n",
        "```\n",
        "from flask import Flask, request, jsonify\n",
        "\n",
        "app = Flask(__name__)\n",
        "\n",
        "@app.route('/api/data', methods=['GET'])\n",
        "def get_data():\n",
        "    return jsonify({'message': 'Hello, API!'})\n",
        "\n",
        "```\n",
        "\n"
      ],
      "metadata": {
        "id": "C0xI0UdT0ex0"
      }
    },
    {
      "cell_type": "markdown",
      "source": [
        "**Que 15:-What is the purpose of Flask's jsonify() function?**\n",
        "\n",
        "Ans:- jsonify() converts Python dictionaries or lists into JSON format and returns a Flask Response object with the appropriate MIME type (application/json). It is useful for sending JSON responses from APIs."
      ],
      "metadata": {
        "id": "WbSob-3a1UdL"
      }
    },
    {
      "cell_type": "markdown",
      "source": [
        "**Que 16:-  Explain Flask’s url_for() function.**\n",
        "\n",
        "Ans:- The url_for() function generates dynamic URLs for functions based on their endpoint names. It helps avoid hardcoding URLs and ensures that routing changes are automatically reflected in templates or redirects.\n",
        "\n",
        "```\n",
        "url_for('home')\n",
        "\n",
        "```\n",
        "\n",
        "\n",
        "\n"
      ],
      "metadata": {
        "id": "nI_95Vns2UHS"
      }
    },
    {
      "cell_type": "markdown",
      "source": [
        "**Que 17:-  How does Flask handle static files (CSS, JavaScript, etc.)?**\n",
        "\n",
        "Ans:- Flask serves static files from the /static directory by default. You can reference them in HTML using:\n",
        "\n",
        "\n",
        "\n",
        "```\n",
        "<link rel=\"stylesheet\" href=\"{{ url_for('static', filename='style.css') }}\">\n",
        "```\n",
        "\n"
      ],
      "metadata": {
        "id": "obd6jOdw3T3V"
      }
    },
    {
      "cell_type": "markdown",
      "source": [
        "**Que 18:- What is an API specification, and how does it help in building a Flask API?**\n",
        "\n",
        "Ans:-An API specification (e.g., OpenAPI) defines the structure and behavior of an API. It includes endpoints, request/response formats, and status codes. It helps standardize development, supports documentation, and improves collaboration between teams.\n"
      ],
      "metadata": {
        "id": "yofeSb5T_5zo"
      }
    },
    {
      "cell_type": "markdown",
      "source": [
        "**Que 19:-  What are HTTP status codes, and why are they important in a Flask API?**\n",
        "\n",
        "\n",
        "Ans:-HTTP status codes indicate the result of an HTTP request:\n",
        "\n",
        "200 OK – success\n",
        "\n",
        "404 Not Found – resource not found\n",
        "\n",
        "500 Internal Server Error – server-side issue\n",
        "These codes help clients understand the outcome and take appropriate actions."
      ],
      "metadata": {
        "id": "Xk4vMOJcBMu8"
      }
    },
    {
      "cell_type": "markdown",
      "source": [
        "**Que 20:- How do you handle POST requests in Flask?**\n",
        "\n",
        "Ans:-\n",
        "\n",
        "```\n",
        "@app.route('/submit', methods=['POST'])\n",
        "def submit():\n",
        "    data = request.json\n",
        "    return jsonify({'received': data}), 201\n",
        "\n",
        "```\n",
        "\n"
      ],
      "metadata": {
        "id": "8pOjtgpPCuGU"
      }
    },
    {
      "cell_type": "markdown",
      "source": [
        "**Que 21:- How would you secure a Flask API?**\n",
        "\n",
        "\n",
        "Ans:-\n",
        "\n",
        "Use authentication (e.g., JWT, OAuth)\n",
        "\n",
        "Enable HTTPS\n",
        "\n",
        "Validate and sanitize input\n",
        "\n",
        "Use Flask extensions like Flask-Login or Flask-JWT\n",
        "\n",
        "Limit request rates (rate limiting)\n",
        "\n",
        "Handle errors securely"
      ],
      "metadata": {
        "id": "0pWUGPnTDM5u"
      }
    },
    {
      "cell_type": "markdown",
      "source": [
        "**Que 22:-What is the significance of the Flask-RESTful extension?**\n",
        "\n",
        "Ans:- Flask-RESTful is an extension that simplifies building RESTful APIs in Flask. It provides tools for defining resources, handling HTTP methods, and formatting responses. It promotes cleaner and more structured code."
      ],
      "metadata": {
        "id": "sMn8Xh7qELQt"
      }
    },
    {
      "cell_type": "markdown",
      "source": [
        "**Que 23:- What is the role of Flask’s session object?**\n",
        "\n",
        "Ans:- The session object in Flask allows you to store user-specific data across requests. It uses cookies and is signed for security. It's useful for maintaining login states and user preferences."
      ],
      "metadata": {
        "id": "UgC-1Boq_bWY"
      }
    },
    {
      "cell_type": "markdown",
      "source": [
        "# **Practical Questions Python**"
      ],
      "metadata": {
        "id": "AaZD11HswdmE"
      }
    },
    {
      "cell_type": "code",
      "source": [
        "# Que 1:-  How do you create a basic Flask application?\".\n",
        "\n",
        "from flask import Flask\n",
        "app = Flask(__name__)\n",
        "\n",
        "@app.route('/')\n",
        "def home():\n",
        "    return 'Hello, Utkarsh!'\n",
        "\n",
        "if __name__ == '__main__':\n",
        "    app.run(debug=True)\n"
      ],
      "metadata": {
        "colab": {
          "base_uri": "https://localhost:8080/"
        },
        "id": "DBDcyuKTwm-P",
        "outputId": "451ce1ce-cb2e-4a34-fd8a-805f76e14812"
      },
      "execution_count": null,
      "outputs": [
        {
          "output_type": "stream",
          "name": "stdout",
          "text": [
            " * Serving Flask app '__main__'\n",
            " * Debug mode: on\n"
          ]
        },
        {
          "output_type": "stream",
          "name": "stderr",
          "text": [
            "INFO:werkzeug:\u001b[31m\u001b[1mWARNING: This is a development server. Do not use it in a production deployment. Use a production WSGI server instead.\u001b[0m\n",
            " * Running on http://127.0.0.1:5000\n",
            "INFO:werkzeug:\u001b[33mPress CTRL+C to quit\u001b[0m\n",
            "INFO:werkzeug: * Restarting with stat\n"
          ]
        }
      ]
    },
    {
      "cell_type": "code",
      "source": [
        "# Que 2:- How do you serve static files like images or CSS in Flask?\n",
        "\n",
        "# Flask automatically serves static files placed in the /static folder. Use url_for('static', filename='style.css') in HTML to link to these files.\n"
      ],
      "metadata": {
        "id": "0iAVvmZ4xBRy"
      },
      "execution_count": null,
      "outputs": []
    },
    {
      "cell_type": "code",
      "source": [
        "# Que 3:- How do you define different routes with different HTTP methods in Flask?\n",
        "\n",
        "@app.route('/submit', methods=['GET', 'POST'])\n",
        "def submit():\n",
        "    if request.method == 'POST':\n",
        "        return 'Posted!'\n",
        "    return 'Send a POST request!'\n"
      ],
      "metadata": {
        "id": "Nko_yqXlxd7c"
      },
      "execution_count": null,
      "outputs": []
    },
    {
      "cell_type": "code",
      "source": [
        "# Que 4:- How do you render HTML templates in Flask?\n",
        "\n",
        "from flask import render_template\n",
        "@app.route('/')\n",
        "def home():\n",
        "    return render_template('index.html')\n",
        "\n",
        "\n"
      ],
      "metadata": {
        "id": "ZINwb2K25Z5m"
      },
      "execution_count": null,
      "outputs": []
    },
    {
      "cell_type": "code",
      "source": [
        "# Que 5:- How can you generate URLs for routes in Flask using url_for()?\n",
        "\n",
        "url_for('home')  # Generates URL for the 'home' function\n"
      ],
      "metadata": {
        "id": "Gmicaakv5_qJ"
      },
      "execution_count": null,
      "outputs": []
    },
    {
      "cell_type": "code",
      "source": [
        "# Que 6- How do you handle forms in Flask?\n",
        "\n",
        "@app.route('/form', methods=['POST'])\n",
        "def handle_form():\n",
        "    name = request.form['name']\n",
        "    return f'Hello {name}'\n",
        "\n"
      ],
      "metadata": {
        "id": "UnMbt8cq8Ch2"
      },
      "execution_count": null,
      "outputs": []
    },
    {
      "cell_type": "code",
      "source": [
        "# Que 7:- How can you validate form data in Flask?\n",
        "\n",
        "if not request.form['email']:\n",
        "    return 'Email is required'"
      ],
      "metadata": {
        "id": "9zp7t_Gl9yWC"
      },
      "execution_count": null,
      "outputs": []
    },
    {
      "cell_type": "code",
      "source": [
        "# Que 8:- How do you manage sessions in Flask?\n",
        "\n",
        "from flask import session\n",
        "\n",
        "session['user'] = 'Utkarsh'   # Set session\n",
        "user = session.get('user') # Get session\n",
        "\n"
      ],
      "metadata": {
        "id": "xOstemXu_EG2"
      },
      "execution_count": null,
      "outputs": []
    },
    {
      "cell_type": "code",
      "source": [
        "# Que 9:- How do you redirect to a different route in Flask?\n",
        "\n",
        "from flask import redirect\n",
        "\n",
        "@app.route('/redirect')\n",
        "def redirect_to_home():\n",
        "    return redirect('/')\n"
      ],
      "metadata": {
        "id": "XheJkyXpFnSY"
      },
      "execution_count": null,
      "outputs": []
    },
    {
      "cell_type": "code",
      "source": [
        "# Que 10:-How do you handle errors in Flask (e.g., 404)?\n",
        "\n",
        "@app.errorhandler(404)\n",
        "def page_not_found(e):\n",
        "    return 'Page Not Found', 404\n"
      ],
      "metadata": {
        "id": "kcLb4pX5NBnJ"
      },
      "execution_count": null,
      "outputs": []
    },
    {
      "cell_type": "code",
      "source": [
        "#Que 11:-How do you structure a Flask app using Blueprints?\n",
        "\n",
        "from flask import Blueprint\n",
        "bp = Blueprint('main', __name__)\n",
        "\n",
        "@bp.route('/')\n",
        "def home():\n",
        "    return 'Blueprint Home'\n",
        "\n"
      ],
      "metadata": {
        "id": "irVbe1oFCO8N"
      },
      "execution_count": null,
      "outputs": []
    },
    {
      "cell_type": "code",
      "source": [
        "#Que 12:- How do you define a custom Jinja filter in Flask?\n",
        "\n",
        "@app.template_filter('reverse')\n",
        "def reverse_filter(s):\n",
        "    return s[::-1]"
      ],
      "metadata": {
        "id": "jiDK5t_pC-Fk"
      },
      "execution_count": null,
      "outputs": []
    },
    {
      "cell_type": "code",
      "source": [
        "#Que 13:- How can you redirect with query parameters in Flask?\n",
        "\n",
        "return redirect(url_for('search', q='flask'))"
      ],
      "metadata": {
        "id": "4ekfeg7JDl1a"
      },
      "execution_count": null,
      "outputs": []
    },
    {
      "cell_type": "code",
      "source": [
        "#Que 14:- How do you return JSON responses in Flask?\n",
        "\n",
        "from flask import jsonify\n",
        "return jsonify({'message': 'Success'})"
      ],
      "metadata": {
        "id": "oYmx2rhiC5Nt"
      },
      "execution_count": null,
      "outputs": []
    },
    {
      "cell_type": "code",
      "source": [
        "#Que 15:- How do you capture URL parameters in Flask?\n",
        "\n",
        "@app.route('/user/<username>')\n",
        "def show_user(username):\n",
        "    return f'User: {username}'"
      ],
      "metadata": {
        "id": "r_awdKGJDZUJ"
      },
      "execution_count": null,
      "outputs": []
    }
  ]
}