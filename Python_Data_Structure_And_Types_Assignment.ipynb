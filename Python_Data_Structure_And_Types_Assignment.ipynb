{
  "nbformat": 4,
  "nbformat_minor": 0,
  "metadata": {
    "colab": {
      "provenance": []
    },
    "kernelspec": {
      "name": "python3",
      "display_name": "Python 3"
    },
    "language_info": {
      "name": "python"
    }
  },
  "cells": [
    {
      "cell_type": "markdown",
      "source": [
        "**Que 1:- What are data structure and why are they important?**\n",
        "\n",
        "Ans:- Data structures are used to organize, manage, and store data efficiently so that it can be accessed and modified easily. They are used for designing efficient algorithms and solving complex programming problems.\n",
        "\n",
        "Data structures are important because:-\n",
        "\n",
        "-> Optimized Data Handling\n",
        "\n",
        "-> Algorithms rely heavily on data structures. Without an appropriate data structure, even the best algorithm can perform poorly.\n",
        "\n",
        "-> Built-in structures like lists, dictionaries, and sets allow Python developers to write cleaner, reusable, and readable code.\n",
        "\n",
        "-> Proper data structures ensure that software can scale without degrading in performance, especially when handling large data.\n",
        "\n",
        "\n",
        "\n",
        "\n",
        "\n",
        "\n",
        "\n",
        "\n",
        "\n",
        "\n"
      ],
      "metadata": {
        "id": "kDWQMtrFLwK9"
      }
    },
    {
      "cell_type": "markdown",
      "source": [
        "**Que 2:- Explain the difference between mutable and immutable data types with example?**\n",
        "\n",
        "Ans:- Mutable data types are those data types which can be changed after they are created whereas Immutable data types are those data types which cannot be changed after they are created.\n",
        "\n",
        "->Some of mutable data types are list, dictionary, set.\n",
        "\n",
        "Some of immutable data types are strings, int, float, tuple.\n",
        "\n"
      ],
      "metadata": {
        "id": "-h30no2KOLFQ"
      }
    },
    {
      "cell_type": "markdown",
      "source": [
        "**Que 3:- What are the main differences between list and tuples in python\n",
        "?**\n",
        "\n",
        "Ans:- Main differences between list and tuple are:-\n",
        "\n",
        "1- List are mutable whereas tuples are immutable.\n",
        "\n",
        "2- List are represented by [] square brackets whereas tuple are represented by () round brackets.\n",
        "\n",
        "3- List are slower in performance whereas tuple are faster in performance.\n",
        "\n",
        "4- List requires more space whereas tuple require less memory space.\n",
        "\n",
        "5- List are less safe whereas tuple are more safe.\n",
        "\n",
        "\n",
        "\n",
        "\n"
      ],
      "metadata": {
        "id": "uqKrxPn4Plls"
      }
    },
    {
      "cell_type": "markdown",
      "source": [
        "**Que 4:- Describe how dictionaries store data.?**\n",
        "\n",
        "Ans:- A dictionary in Python is an unordered collection of data in the form of key-value pairs.\n",
        "\n",
        "Data in dictionary are store like:-\n",
        "\n",
        "\n",
        "\n",
        "```\n",
        "my_dict = {\"Name\": \"Utkarsh\", \"Age\": \"28\"}\n",
        "```\n",
        "\n",
        "In dictionary key must be unique and it uses hash table from behind.\n",
        "\n"
      ],
      "metadata": {
        "id": "wzJzjeCeRS5s"
      }
    },
    {
      "cell_type": "markdown",
      "source": [
        "***Que 5:- Why might you use a set instead of list in python?***\n",
        "\n",
        "Ans:- A set is a built-in Python data structure that stores unordered, unique elements.\n",
        "\n",
        "To use set instead of list:-\n",
        "\n",
        "1- Sets only stores unique elements and automatically remove duplicates.\n",
        "\n",
        "2- Sets are faster than list and are much more safer than lists.\n",
        "\n",
        "3- Sets support mathematical operations like union, intersection, and difference which are not efficient with lists."
      ],
      "metadata": {
        "id": "-nbAtz7eSXJk"
      }
    },
    {
      "cell_type": "markdown",
      "source": [
        "**Que 6:- What is a string in python, and how is it different from a list?**\n",
        "\n",
        "Ans:- A string in python is a data type which stores values as characters, it can be numbers, letters etc.\n",
        "\n",
        "-> Strings are assigned as\n",
        "```\n",
        "messege = \"Hello utkarsh\"\n",
        "```\n",
        "-> Strings are mutable its value can not be chnaged once stored.\n",
        "\n",
        "-> Strings are different from list as\n",
        "\n",
        "1- List has sequence of any data types while string only has character sequence.\n",
        "\n",
        "2- List are mutable but strings are not.\n",
        "\n",
        "3- Strings are represented in quotes \" \" while lists are represented as square brackets [ ].\n",
        "\n",
        "\n"
      ],
      "metadata": {
        "id": "ivUmOmRRTZs9"
      }
    },
    {
      "cell_type": "markdown",
      "source": [
        "**Que 7:- Why do tuples ensure data integrity in python?**\n",
        "\n",
        "Ans:- Tuples in python ensures data integrity as they are immutable and their values can not be changed once assigned. This ensures to prevents accidental modification of data.\n",
        "\n"
      ],
      "metadata": {
        "id": "PhJbWAbYV8Mq"
      }
    },
    {
      "cell_type": "markdown",
      "source": [
        "**Que 8:- What is a hash table, and how does it relates to dictionaries in python?**\n",
        "\n",
        "Ans:- A hash table is a data structure which stores data as key value pairs and allow fast data access using a process called hashing.\n",
        "\n",
        "-> In python dictionaries are implemented using hash table from behind.\n",
        "\n",
        "-> Suppose here\n",
        "\n",
        "\n",
        "```\n",
        "my_dict = {\"Name\": \"Utkarsh\", \"Age\": \"28\"}\n",
        "```\n",
        "\n",
        "-> Here the key \"Name\" is passed through hash function which is used to generate index.\n",
        "\n",
        "-> The index points at the memory where \"Utkarsh\" is stored.\n",
        "\n",
        "-> So here its is working like hash table.\n",
        "\n"
      ],
      "metadata": {
        "id": "2WECqajqYflC"
      }
    },
    {
      "cell_type": "markdown",
      "source": [
        "**Que 9 :- Can lists contain different data types in python?**\n",
        "\n",
        "Ans:- Yes, lists can contain multiple data types in python.\n",
        "\n",
        "As python is also dynamically typed a list can be like this\n",
        "\n",
        "```\n",
        "list1 = [\"One\", \"Two\", 3, False, 2.5]\n",
        "```\n",
        "-> A list can store string, boolean, integer, float any kind of data.\n",
        "\n"
      ],
      "metadata": {
        "id": "AZN5DCIEabUh"
      }
    },
    {
      "cell_type": "markdown",
      "source": [
        "**Que 10:- Explain why strings are immutable in python?**\n",
        "\n",
        "Ans:- Strings are very commonly used, immutability allows python to reuse the same memory location saving memory.\n",
        "\n",
        "-> It is good for string to be immutable for thread safety so that no other thread can change another.\n",
        "\n"
      ],
      "metadata": {
        "id": "41FDak2Ymc-q"
      }
    },
    {
      "cell_type": "markdown",
      "source": [
        "**Que 11:- What advantages do dictionaries offer over lists in python?**\n",
        "\n",
        "Ans:- Some of the advantages are:-\n",
        "\n",
        "-> Key based access to data which is better than list indexing.\n",
        "\n",
        "-> Distionary uses hasing so retrieving data is much master using keys.\n",
        "\n",
        "-> As it has key value pairs so data is much more organized."
      ],
      "metadata": {
        "id": "pWLuKWHqpF78"
      }
    },
    {
      "cell_type": "markdown",
      "source": [
        "**Que 12:- Describe a scenario where using a tuple would be preferable over a list?**\n",
        "\n",
        "Ans:- Suppose I am making a computer vision based program for image editor and in open cv I need to store RGB color value for pixel.\n",
        "\n",
        "color = (255, 0, 128) which is for pink\n",
        "\n",
        "so here tuple is better than list as\n",
        "\n",
        "-> A RGB always contains 3 numbers tuple ensures its structure.\n",
        "\n",
        "-> Tuples are immutable so accidental modification is not possible here.\n",
        "\n",
        "-> And in computer vision thousands of pixels can be used so here tuples uses less memory and are faster.\n"
      ],
      "metadata": {
        "id": "nbg16JkHqN6k"
      }
    },
    {
      "cell_type": "markdown",
      "source": [
        "**Que 13:- How do sets handle duplicate values in python?**\n",
        "\n",
        "Ans:- Sets automatically handle duplicate values and behind it uses the hashing technique which match the hash of the elements before adding anything."
      ],
      "metadata": {
        "id": "EeobGsEPrq9t"
      }
    },
    {
      "cell_type": "markdown",
      "source": [
        "**Que 14:- How does the \"in\" keyword works differently for lists and dictionaries?**\n",
        "\n",
        "Ans:- The \"in\" keyword used in lists to check whether the value exist in list while in dictionaries it is used to check whether key exists or not.\n",
        "\n"
      ],
      "metadata": {
        "id": "Kcf_UMLnuVo9"
      }
    },
    {
      "cell_type": "markdown",
      "source": [
        "**Que 15:- Can you modify the elements of a tuple? Explain why or why not?**\n",
        "\n",
        "Ans:- No, elements of the tuple can not be modified because tuples are immutable in python means once assigned its value can not be changed or modified. They are immutable for data integrity like accidental change, and it uses hash and changing content may break the hash, to use less memory and space."
      ],
      "metadata": {
        "id": "rHPofKAF7gxt"
      }
    },
    {
      "cell_type": "markdown",
      "source": [
        "**Que 16:- What is a nested dictionary, and give an example of its use case?**\n",
        "\n",
        "Ans:- A nested dictionary is a dictionary inside another dictionary it allows to store complex data just like nested json.\n",
        "\n",
        "Example:-\n",
        "\n",
        "\n",
        "```\n",
        "students = {\n",
        "    \"S1\": {\"name\": \"Utkarsh\", \"age\": 28, \"grade\": \"A\"},\n",
        "    \"S2\": {\"name\": \"Varun\", \"age\": 27, \"grade\": \"B\"},\n",
        "}\n",
        "```\n",
        "\n",
        "-> The use case here is a student can have multiple attributes so in these kinds of cases a nested dictionary is useful.\n",
        "\n"
      ],
      "metadata": {
        "id": "uUn3PHBq9Dh0"
      }
    },
    {
      "cell_type": "markdown",
      "source": [
        "**Que 17:- Describe the time complexity of accessing elements in a dictionary?**\n",
        "\n",
        "Ans:- Dictionaries uses hash tables which uses key value pairs for finding the value, there is no need to search through all the values so the time complexity of dictionary is O(1)."
      ],
      "metadata": {
        "id": "MHS2tuiY-ZTp"
      }
    },
    {
      "cell_type": "markdown",
      "source": [
        "**Que 18:- In what situations are lists preferred over dictionaries?**\n",
        "\n",
        "Ans:- Lists are preferred over dictionaries when:-\n",
        "\n",
        "-> There is need of insertion order as lists maintains it to do access by index.\n",
        "\n",
        "-> When duplicates are needed.\n",
        "\n",
        "-> When sequential data is needed.\n",
        "\n",
        "-> Lists are also more memory efficient for small data.\n",
        "\n",
        "-> Lists support multiple data types."
      ],
      "metadata": {
        "id": "ckSxsY1l_f5M"
      }
    },
    {
      "cell_type": "markdown",
      "source": [
        "**Que 19:- Why are dictionaries considered unordered, and how does that affect data retrieval?**\n",
        "\n",
        "Ans:- Before python 3.7 dictionaries were totally unordered and keys and values could appear in any order, even if inserted sequentially.\n",
        "\n",
        "From python 3.7 and above insertion order is preserved, the order in which items are added is the order we get when iterating. But logically dictionaries are considered unordered because it focus on key values based access for fater data fetching, not the sequence."
      ],
      "metadata": {
        "id": "d4dxCqanBXd0"
      }
    },
    {
      "cell_type": "markdown",
      "source": [
        "**Que 20:- Explain the difference between lists and dictionary in terms of data retrieval?**\n",
        "\n",
        "Ans:- Some differences are:-\n",
        "\n",
        "-> List do access by index whereas dictionary do access by key.\n",
        "\n",
        "-> List time complexity is O(n) where as dictionary time complexity is O(1).\n",
        "\n",
        "-> Lists are slow whereas dictionaries are fatser.\n",
        "\n",
        "-> Lists store sequential data while dictionary do not focus on order."
      ],
      "metadata": {
        "id": "dHA_RSGQC_M2"
      }
    },
    {
      "cell_type": "markdown",
      "source": [
        "# **Practical Questions Python**"
      ],
      "metadata": {
        "id": "AaZD11HswdmE"
      }
    },
    {
      "cell_type": "code",
      "source": [
        "# Que 1:- Write a code to create a string with your name and print it.\"\n",
        "\n",
        "name = \"Utkarsh Mishra\"\n",
        "print(name)"
      ],
      "metadata": {
        "colab": {
          "base_uri": "https://localhost:8080/"
        },
        "id": "DBDcyuKTwm-P",
        "outputId": "b1d6d27b-3457-46c7-bb1b-8046c9b276c1"
      },
      "execution_count": null,
      "outputs": [
        {
          "output_type": "stream",
          "name": "stdout",
          "text": [
            "Utkarsh Mishra\n"
          ]
        }
      ]
    },
    {
      "cell_type": "code",
      "source": [
        "# Que 2:- Write a code to find the length of the string \"Hello World\".\n",
        "\n",
        "string = \"Hello World\"\n",
        "print(len(string))"
      ],
      "metadata": {
        "colab": {
          "base_uri": "https://localhost:8080/"
        },
        "id": "0iAVvmZ4xBRy",
        "outputId": "4ec54a47-c01a-4209-819f-6074293609f1"
      },
      "execution_count": null,
      "outputs": [
        {
          "output_type": "stream",
          "name": "stdout",
          "text": [
            "11\n"
          ]
        }
      ]
    },
    {
      "cell_type": "code",
      "source": [
        "# Que 3:- Write a code to slice the first 3 characters from the string \"Python Programming\".\n",
        "\n",
        "str1 = \"Python Programming\"\n",
        "print(str1[:3])\n"
      ],
      "metadata": {
        "colab": {
          "base_uri": "https://localhost:8080/"
        },
        "id": "Nko_yqXlxd7c",
        "outputId": "44323018-acae-4c29-a048-1e4c0b4c05c2"
      },
      "execution_count": null,
      "outputs": [
        {
          "output_type": "stream",
          "name": "stdout",
          "text": [
            "Pyt\n"
          ]
        }
      ]
    },
    {
      "cell_type": "code",
      "source": [
        "# Que 4:- Write a code to convert the string \"hello\" to uppercase.\n",
        "\n",
        "str2 = \"hello\"\n",
        "print(str2.upper())"
      ],
      "metadata": {
        "colab": {
          "base_uri": "https://localhost:8080/"
        },
        "id": "ZINwb2K25Z5m",
        "outputId": "c9de4298-0c22-4c33-ded3-d3e6470b4ecb"
      },
      "execution_count": null,
      "outputs": [
        {
          "output_type": "stream",
          "name": "stdout",
          "text": [
            "HELLO\n"
          ]
        }
      ]
    },
    {
      "cell_type": "code",
      "source": [
        "# Que 5:-Write a code to replace the word \"apple\" with \"orange\" in the string \"I like apple\".\n",
        "\n",
        "str3 = \"I like apple\"\n",
        "print(str3.replace(\"apple\", \"orange\"))"
      ],
      "metadata": {
        "colab": {
          "base_uri": "https://localhost:8080/"
        },
        "id": "Gmicaakv5_qJ",
        "outputId": "d7331dec-7f80-4e0f-a866-823b4efae75f"
      },
      "execution_count": null,
      "outputs": [
        {
          "output_type": "stream",
          "name": "stdout",
          "text": [
            "I like orange\n"
          ]
        }
      ]
    },
    {
      "cell_type": "code",
      "source": [
        "# Que 6\"- Write a code to create a list with numbers 1 to 5 and print it.\n",
        "\n",
        "list1 = [1, 2, 3, 4, 5]\n",
        "print(list1)"
      ],
      "metadata": {
        "colab": {
          "base_uri": "https://localhost:8080/"
        },
        "id": "UnMbt8cq8Ch2",
        "outputId": "c31139db-ba70-4385-f82a-e13623c5946d"
      },
      "execution_count": null,
      "outputs": [
        {
          "output_type": "stream",
          "name": "stdout",
          "text": [
            "[1, 2, 3, 4, 5]\n"
          ]
        }
      ]
    },
    {
      "cell_type": "code",
      "source": [
        "# Que 7:- Write a code to append the number 10 to the list [1, 2, 3, 4].\n",
        "\n",
        "list2 = [1, 2, 3, 4]\n",
        "list2.append(10)\n",
        "print(list2)"
      ],
      "metadata": {
        "colab": {
          "base_uri": "https://localhost:8080/"
        },
        "id": "9zp7t_Gl9yWC",
        "outputId": "5c00873c-de7f-44b1-f654-24436fee24f3"
      },
      "execution_count": null,
      "outputs": [
        {
          "output_type": "stream",
          "name": "stdout",
          "text": [
            "[1, 2, 3, 4, 10]\n"
          ]
        }
      ]
    },
    {
      "cell_type": "code",
      "source": [
        "# Que 8:- Write a code to remove the number 3 from the list [1, 2, 3, 4, 5].\n",
        "\n",
        "list3 = [1, 2, 3, 4, 5]\n",
        "list3.remove(3)\n",
        "print(list3)"
      ],
      "metadata": {
        "colab": {
          "base_uri": "https://localhost:8080/"
        },
        "id": "xOstemXu_EG2",
        "outputId": "0967b8ac-409d-4c81-af79-ae2fbe5c7d5a"
      },
      "execution_count": null,
      "outputs": [
        {
          "output_type": "stream",
          "name": "stdout",
          "text": [
            "[1, 2, 4, 5]\n"
          ]
        }
      ]
    },
    {
      "cell_type": "code",
      "source": [
        "# Que 9:- Write a code to access the second element in the list ['a', 'b', 'c', 'd'].\n",
        "\n",
        "list4 = ['a', 'b', 'c', 'd']\n",
        "print(list4[1])\n"
      ],
      "metadata": {
        "colab": {
          "base_uri": "https://localhost:8080/"
        },
        "id": "XheJkyXpFnSY",
        "outputId": "6c8f5a25-c53a-4ae5-fcd9-f166868145f2"
      },
      "execution_count": null,
      "outputs": [
        {
          "output_type": "stream",
          "name": "stdout",
          "text": [
            "b\n"
          ]
        }
      ]
    },
    {
      "cell_type": "code",
      "source": [
        "# Que 10:- Write a code to reverse the list [10, 20, 30, 40, 50].\n",
        "\n",
        "list5 = [10, 20, 30, 40, 50]\n",
        "print(list5[::-1])"
      ],
      "metadata": {
        "colab": {
          "base_uri": "https://localhost:8080/"
        },
        "id": "kcLb4pX5NBnJ",
        "outputId": "1b33f6d4-d0a2-476d-b881-a3c0826f3d9e"
      },
      "execution_count": null,
      "outputs": [
        {
          "output_type": "stream",
          "name": "stdout",
          "text": [
            "[50, 40, 30, 20, 10]\n"
          ]
        }
      ]
    },
    {
      "cell_type": "code",
      "source": [
        "# Que 11:- Write a code to create a tuple with the elements 100, 200, 300 and print it.\n",
        "\n",
        "tuple1 = (100, 200, 300)\n",
        "print(tuple1)\n"
      ],
      "metadata": {
        "colab": {
          "base_uri": "https://localhost:8080/"
        },
        "id": "NTS7WLvTOafy",
        "outputId": "a9bdfbd7-b4de-446c-c106-12b6792a539b"
      },
      "execution_count": null,
      "outputs": [
        {
          "output_type": "stream",
          "name": "stdout",
          "text": [
            "(100, 200, 300)\n"
          ]
        }
      ]
    },
    {
      "cell_type": "code",
      "source": [
        "# Que 12:- Write a code to access the second-to-last element of the tuple ('red', 'green', 'blue', 'yellow').\n",
        "\n",
        "tuple2 = ('red', 'green', 'blue', 'yellow')\n",
        "print(tuple2[-2])\n",
        "\n"
      ],
      "metadata": {
        "colab": {
          "base_uri": "https://localhost:8080/"
        },
        "id": "UmPgDS4ZO1Ue",
        "outputId": "cd7487f8-01ad-4d32-94da-047ee11374ab"
      },
      "execution_count": null,
      "outputs": [
        {
          "output_type": "stream",
          "name": "stdout",
          "text": [
            "blue\n"
          ]
        }
      ]
    },
    {
      "cell_type": "code",
      "source": [
        "# Que 13:- Write a code to find the minimum number in the tuple (10, 20, 5, 15).\n",
        "\n",
        "tuple3 = (10, 20, 5, 15)\n",
        "print(min(tuple3))\n"
      ],
      "metadata": {
        "colab": {
          "base_uri": "https://localhost:8080/"
        },
        "id": "O1lhyVErPIHi",
        "outputId": "93f0fec7-9cc1-4cc3-fa63-d93cd4dc836a"
      },
      "execution_count": null,
      "outputs": [
        {
          "output_type": "stream",
          "name": "stdout",
          "text": [
            "5\n"
          ]
        }
      ]
    },
    {
      "cell_type": "code",
      "source": [
        "# Que 14:- Write a code to find the index of the element \"cat\" in the tuple ('dog', 'cat', 'rabbit').\n",
        "\n",
        "tuple4 = ('dog', 'cat', 'rabbit')\n",
        "print(tuple4.index(\"cat\"))\n"
      ],
      "metadata": {
        "colab": {
          "base_uri": "https://localhost:8080/"
        },
        "id": "WiaG1p7QRlo9",
        "outputId": "99920c80-53a9-40a4-9274-333f0ade1426"
      },
      "execution_count": null,
      "outputs": [
        {
          "output_type": "stream",
          "name": "stdout",
          "text": [
            "1\n"
          ]
        }
      ]
    },
    {
      "cell_type": "code",
      "source": [
        "# Que 15:- Write a code to create a tuple containing three different fruits and check if \"kiwi\" is in it.\n",
        "\n",
        "tuple5 = (\"pineapple\", \"banana\", \"orange\")\n",
        "if \"kiwi\" in tuple5:\n",
        "  print(\"kiwi is in tuple5\")\n",
        "else:\n",
        "  print(\"kiwi is not in tuple5\")\n"
      ],
      "metadata": {
        "colab": {
          "base_uri": "https://localhost:8080/"
        },
        "id": "XHznaFDaR9wE",
        "outputId": "11a9c534-6ba3-4be5-b81e-7cdb9217834d"
      },
      "execution_count": null,
      "outputs": [
        {
          "output_type": "stream",
          "name": "stdout",
          "text": [
            "kiwi is not in tuple5\n"
          ]
        }
      ]
    },
    {
      "cell_type": "code",
      "source": [
        "# Que 16:-  Write a code to create a set with the elements 'a', 'b', 'c' and print it.\n",
        "\n",
        "set1 = {'a', 'b', 'c'}\n",
        "print(set1)"
      ],
      "metadata": {
        "colab": {
          "base_uri": "https://localhost:8080/"
        },
        "id": "9whTdoKNTMJT",
        "outputId": "2be88bfc-1d4e-41c5-d695-11e68f803fd6"
      },
      "execution_count": null,
      "outputs": [
        {
          "output_type": "stream",
          "name": "stdout",
          "text": [
            "{'b', 'c', 'a'}\n"
          ]
        }
      ]
    },
    {
      "cell_type": "code",
      "source": [
        "# Que 17:- Write a code to clear all elements from the set {1, 2, 3, 4, 5}.\n",
        "\n",
        "set2 = {1, 2, 3, 4, 5}\n",
        "set2.clear()\n",
        "print(set2)"
      ],
      "metadata": {
        "colab": {
          "base_uri": "https://localhost:8080/"
        },
        "id": "bu2ZXjEVT0yO",
        "outputId": "563400df-3afe-4ad8-f85a-5f3cc9c3d756"
      },
      "execution_count": null,
      "outputs": [
        {
          "output_type": "stream",
          "name": "stdout",
          "text": [
            "set()\n"
          ]
        }
      ]
    },
    {
      "cell_type": "code",
      "source": [
        "# Que 18:-  Write a code to remove the element 4 from the set {1, 2, 3, 4}.\n",
        "\n",
        "set3 = {1, 2, 3, 4}\n",
        "set3.remove(4)\n",
        "print(set3)"
      ],
      "metadata": {
        "colab": {
          "base_uri": "https://localhost:8080/"
        },
        "id": "JbjeAtfzUdFH",
        "outputId": "cabbc613-c65e-4f9a-da3a-d6765fcec9dd"
      },
      "execution_count": null,
      "outputs": [
        {
          "output_type": "stream",
          "name": "stdout",
          "text": [
            "{1, 2, 3}\n"
          ]
        }
      ]
    },
    {
      "cell_type": "code",
      "source": [
        "# Que 19:- Write a code to find the union of two sets {1, 2, 3} and {3, 4, 5}.\n",
        "\n",
        "set4 = {1, 2, 3}\n",
        "set5 = {3, 4, 5}\n",
        "print(set4.union(set5))"
      ],
      "metadata": {
        "colab": {
          "base_uri": "https://localhost:8080/"
        },
        "id": "apdIm-CRU0DN",
        "outputId": "7050cd78-2ea1-4e05-92d9-a09fa3c7c62c"
      },
      "execution_count": null,
      "outputs": [
        {
          "output_type": "stream",
          "name": "stdout",
          "text": [
            "{1, 2, 3, 4, 5}\n"
          ]
        }
      ]
    },
    {
      "cell_type": "code",
      "source": [
        "# Que 20:- Write a code to find the intersection of two sets {1, 2, 3} and {2, 3, 4}.\n",
        "\n",
        "set6 = {1, 2, 3}\n",
        "set7 = {2, 3, 4}\n",
        "print(set6.intersection(set7))"
      ],
      "metadata": {
        "colab": {
          "base_uri": "https://localhost:8080/"
        },
        "id": "rIYlWVWjU9It",
        "outputId": "3fc1d463-2fa1-46d8-fbcf-29dc70995500"
      },
      "execution_count": null,
      "outputs": [
        {
          "output_type": "stream",
          "name": "stdout",
          "text": [
            "{2, 3}\n"
          ]
        }
      ]
    },
    {
      "cell_type": "code",
      "source": [
        "# Que 21:- Write a code to create a dictionary with the keys \"name\", \"age\", and \"city\", and print it.\n",
        "\n",
        "dict1 = {\"name\": \"Utkarsh\", \"age\": 28, \"city\": \"Bangalore\"}\n",
        "print(dict1)"
      ],
      "metadata": {
        "colab": {
          "base_uri": "https://localhost:8080/"
        },
        "id": "fz-86MQJg3Hn",
        "outputId": "f8769779-d62e-4c9d-cd06-36324ab413f1"
      },
      "execution_count": null,
      "outputs": [
        {
          "output_type": "stream",
          "name": "stdout",
          "text": [
            "{'name': 'Utkarsh', 'age': 28, 'city': 'Bangalore'}\n"
          ]
        }
      ]
    },
    {
      "cell_type": "code",
      "source": [
        "# Que 22:- Write a code to add a new key–value pair \"country\": \"USA\" to the dictionary {'name': 'John', 'age': 25}.\n",
        "\n",
        "dict2 = {'name': 'John', 'age': 25}\n",
        "dict2[\"country\"] = \"USA\"\n",
        "print(dict2)"
      ],
      "metadata": {
        "colab": {
          "base_uri": "https://localhost:8080/"
        },
        "id": "c3QKvhZOhJsh",
        "outputId": "74c2d823-9ab9-4c91-8ff5-61302cb9fd0d"
      },
      "execution_count": null,
      "outputs": [
        {
          "output_type": "stream",
          "name": "stdout",
          "text": [
            "{'name': 'John', 'age': 25, 'country': 'USA'}\n"
          ]
        }
      ]
    },
    {
      "cell_type": "code",
      "source": [
        "# Que 23:- Write a code to access the value associated with the key \"name\" in the dictionary {'name': 'Alice', 'age': 30}.\n",
        "\n",
        "dict3 = {'name': 'Alice', 'age': 30}\n",
        "print(dict3[\"name\"])"
      ],
      "metadata": {
        "colab": {
          "base_uri": "https://localhost:8080/"
        },
        "id": "2DL0F1Q5hfd4",
        "outputId": "352fd384-218d-48eb-b27a-5c9138b55172"
      },
      "execution_count": null,
      "outputs": [
        {
          "output_type": "stream",
          "name": "stdout",
          "text": [
            "Alice\n"
          ]
        }
      ]
    },
    {
      "cell_type": "code",
      "source": [
        "# Que 24:- Write a code to remove the key \"age\" from the dictionary {'name': 'Bob', 'age': 22, 'city': 'New York'}.\n",
        "\n",
        "dict4 = {'name': 'Bob', 'age': 22, 'city': 'New York'}\n",
        "dict4.pop(\"age\")\n",
        "print(dict4)\n"
      ],
      "metadata": {
        "colab": {
          "base_uri": "https://localhost:8080/"
        },
        "id": "Axv1fScOhoHo",
        "outputId": "498e0ccc-374a-4d94-924e-57dcaea5e4f1"
      },
      "execution_count": null,
      "outputs": [
        {
          "output_type": "stream",
          "name": "stdout",
          "text": [
            "{'name': 'Bob', 'city': 'New York'}\n"
          ]
        }
      ]
    },
    {
      "cell_type": "code",
      "source": [
        "# Que 25:- Write a code to check if the key \"city\" exists in the dictionary {'name': 'Alice', 'city': 'Paris'}.\n",
        "\n",
        "dict5 = {'name': 'Alice', 'city': 'Paris'}\n",
        "if \"city\" in dict5:\n",
        "  print(\"city is in dict5\")\n",
        "else:\n",
        "  print(\"city is not in dict5\")"
      ],
      "metadata": {
        "colab": {
          "base_uri": "https://localhost:8080/"
        },
        "id": "AhTQbbp6h0h3",
        "outputId": "f93c7736-0995-4eb5-997f-0d775ded3873"
      },
      "execution_count": null,
      "outputs": [
        {
          "output_type": "stream",
          "name": "stdout",
          "text": [
            "city is in dict5\n"
          ]
        }
      ]
    },
    {
      "cell_type": "code",
      "source": [
        "# Que 26:- Write a code to create a list, a tuple, and a dictionary, and print them all.\n",
        "\n",
        "list1 = [1, 2, 3, 4]\n",
        "tuple1 = (1, 2, 3, 4)\n",
        "dict1 = {\"name\": \"Utkarsh\", \"age\": 28}\n",
        "\n",
        "print(\"List \", list1)\n",
        "print(\"Tuple \", tuple1)\n",
        "print(\"Dictionary \", dict1)"
      ],
      "metadata": {
        "colab": {
          "base_uri": "https://localhost:8080/"
        },
        "id": "U3Gy9zYNiEsd",
        "outputId": "1a971ad2-f130-49c0-d4d8-3e1feab72b81"
      },
      "execution_count": null,
      "outputs": [
        {
          "output_type": "stream",
          "name": "stdout",
          "text": [
            "List  [1, 2, 3, 4]\n",
            "Tuple  (1, 2, 3, 4)\n",
            "Dictionary  {'name': 'Utkarsh', 'age': 28}\n"
          ]
        }
      ]
    },
    {
      "cell_type": "code",
      "source": [
        "# Que 27:- Write a code to create a list of 5 random numbers between 1 and 100, sort it in ascending order, and print the result.\n",
        "\n",
        "import random\n",
        "\n",
        "list2 = []\n",
        "for i in range(5):\n",
        "  list2.append(random.randint(1, 100))\n",
        "\n",
        "list2.sort()\n",
        "print(list2)"
      ],
      "metadata": {
        "colab": {
          "base_uri": "https://localhost:8080/"
        },
        "id": "Xti-CrdHipic",
        "outputId": "f914235f-a974-4af7-9d3f-d4b09737fbf2"
      },
      "execution_count": null,
      "outputs": [
        {
          "output_type": "stream",
          "name": "stdout",
          "text": [
            "[7, 39, 63, 72, 74]\n"
          ]
        }
      ]
    },
    {
      "cell_type": "code",
      "source": [
        "# Que 28:- Write a code to create a list with strings and print the element at the third index.\n",
        "\n",
        "list3 = [\"one\", \"two\", \"three\", \"four\", \"five\"]\n",
        "print(list3[2])"
      ],
      "metadata": {
        "colab": {
          "base_uri": "https://localhost:8080/"
        },
        "id": "30gUJxeyi_FQ",
        "outputId": "fdb67e0d-6577-4742-98ba-2f77c12da8de"
      },
      "execution_count": null,
      "outputs": [
        {
          "output_type": "stream",
          "name": "stdout",
          "text": [
            "three\n"
          ]
        }
      ]
    },
    {
      "cell_type": "code",
      "source": [
        "# Que 29:- Write a code to combine two dictionaries into one and print the result.\n",
        "\n",
        "dict6 = {\"name\": \"Utkarsh\", \"age\": 28}\n",
        "dict7 = {\"city\": \"Bangalore\", \"country\": \"India\"}\n",
        "\n",
        "dict6.update(dict7)\n",
        "print(dict6)"
      ],
      "metadata": {
        "colab": {
          "base_uri": "https://localhost:8080/"
        },
        "id": "I8Haazx7jRVv",
        "outputId": "9c5a4402-2f71-44ee-d2a9-9f22e41953c2"
      },
      "execution_count": null,
      "outputs": [
        {
          "output_type": "stream",
          "name": "stdout",
          "text": [
            "{'name': 'Utkarsh', 'age': 28, 'city': 'Bangalore', 'country': 'India'}\n"
          ]
        }
      ]
    },
    {
      "cell_type": "code",
      "source": [
        "# Que 30:- Write a code to convert a list of strings into a set.\n",
        "\n",
        "list4 = [\"one\", \"two\", \"three\", \"four\", \"five\"]\n",
        "set1 = set(list4)\n",
        "print(set1)"
      ],
      "metadata": {
        "colab": {
          "base_uri": "https://localhost:8080/"
        },
        "id": "4MHkgHgFja9k",
        "outputId": "19b003d8-0c1e-441b-ae1f-fd1a7ea8f666"
      },
      "execution_count": null,
      "outputs": [
        {
          "output_type": "stream",
          "name": "stdout",
          "text": [
            "{'five', 'four', 'one', 'two', 'three'}\n"
          ]
        }
      ]
    }
  ]
}