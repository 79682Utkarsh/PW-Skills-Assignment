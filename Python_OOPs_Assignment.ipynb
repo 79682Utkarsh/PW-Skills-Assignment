{
  "nbformat": 4,
  "nbformat_minor": 0,
  "metadata": {
    "colab": {
      "provenance": []
    },
    "kernelspec": {
      "name": "python3",
      "display_name": "Python 3"
    },
    "language_info": {
      "name": "python"
    }
  },
  "cells": [
    {
      "cell_type": "markdown",
      "source": [
        "**Que 1:- What is Object-Oriented Programming?**\n",
        "\n",
        "Ans:- An object oriented programming organize code into classes and objects which are scalable and reusable.\n",
        "\n",
        "There are some of the priciples of OOPs:-\n",
        "\n",
        "Encapsulation - Means wrapping up of data.\n",
        "\n",
        "Abstraction - Means hiding the complex logic part only showing what is necessary.\n",
        "\n",
        "Inheritance - Means inhereting the properties of another class which is a parent class.\n",
        "\n",
        "Polymorphism - Overloading and overriding comes under this concept.\n",
        "\n",
        "\n"
      ],
      "metadata": {
        "id": "kDWQMtrFLwK9"
      }
    },
    {
      "cell_type": "markdown",
      "source": [
        "**Que 2:- What is a class in OOP?**\n",
        "\n",
        "Ans:- A class in oop contains multiple objects it work as a template which contains it and all the methods and function comes inside the class. A class basically show the structure of the code.\n"
      ],
      "metadata": {
        "id": "-h30no2KOLFQ"
      }
    },
    {
      "cell_type": "markdown",
      "source": [
        "\n",
        "**Que 3:- What is an object in OOP?**\n",
        "\n",
        "Ans:- An object is an instance of class it defines the nature of the class and hold attributes. While class show the structure of code object do the implementation of code.\n"
      ],
      "metadata": {
        "id": "uqKrxPn4Plls"
      }
    },
    {
      "cell_type": "markdown",
      "source": [
        "**Que 4:-  What is the difference between abstraction and encapsulation?**\n",
        "\n",
        "Ans:- Difference between abstraction and encapsulation are:-\n",
        "\n",
        "1 -> Abstraction means hiding the complex implementation and only show necessary part of the code whereas encapsulation means wraping up of all data into single unit.\n",
        "\n",
        "2 -> Abstraction focus on working of objects while encapsulation focus on data protection.\n",
        "\n",
        "3-> Abstraction make use of code simple while encapsulation is used where data protection is needed.\n",
        "\n",
        "4 -> Abstraction is used by using abstract class, interfaces and method overriding whereas encapsulation is usind by using keywords like private , public and protected in pyhton we use __ for this.\n"
      ],
      "metadata": {
        "id": "wzJzjeCeRS5s"
      }
    },
    {
      "cell_type": "markdown",
      "source": [
        "***Que 5:- What are dunder methods in Python?***\n",
        "\n",
        "Ans:- Dunder methods in Python, are methods that have double underscores before and after their names (e.g., __init__, __str__, __add__). They are automatically called by Python to perform special operations.\n",
        "\n",
        "For eg:-\n",
        "\n",
        "_ _ init _ _ Called when an object is created (constructor)."
      ],
      "metadata": {
        "id": "-nbAtz7eSXJk"
      }
    },
    {
      "cell_type": "markdown",
      "source": [
        "**Que 6:- Explain the concept of inheritance in OOP?**\n",
        "\n",
        "Ans:- Inheritance in oop is a concept where a child class inherit the properties of parent class which are attributes and methods.\n",
        "\n",
        "There are different types of inheritence:-\n",
        "\n",
        "1 -> Single Inheritence - One child class inherit from one parent class\n",
        "\n",
        "2 -> Multiple Inheritence - A child clas inherit from more than one parent class.\n",
        "\n",
        "3 -> Multilevel Inheritance - A class inherits from a child class which itself inherits from another class.\n",
        "\n",
        "4 -> Hierarchical Inheritance - Multiple child classes inherit from a single parent class."
      ],
      "metadata": {
        "id": "ivUmOmRRTZs9"
      }
    },
    {
      "cell_type": "markdown",
      "source": [
        "**Que 7:- What is polymorphism in OOP?**\n",
        "\n",
        "Ans:- Polymorphism in OOP is the ability of different classes to respond to the same method or function call in different ways. It allows one interface to be used for a general class of actions, making the code flexible.\n",
        "\n",
        "Compile time polymorphism and run time polymorphism are the example.\n"
      ],
      "metadata": {
        "id": "PhJbWAbYV8Mq"
      }
    },
    {
      "cell_type": "markdown",
      "source": [
        "**Que 8:- How is encapsulation achieved in Python?**\n",
        "\n",
        "Ans:- Encapsulation in Python is achieved by restricting direct access to class attributes and methods, and providing controlled access through getter and setter methods. This helps ensures data security.\n",
        "\n",
        "Example code:-\n",
        "\n",
        "```\n",
        "class Student:\n",
        "    def __init__(self, name, grade):\n",
        "        self.__name = name        # Private is used using __\n",
        "        self.__grade = grade      \n",
        "\n",
        "    def get_grade(self):          # Getter method\n",
        "        return self.__grade\n",
        "\n",
        "    def set_grade(self, grade):   # Setter method\n",
        "        if 0 <= grade <= 100:\n",
        "            self.__grade = grade\n",
        "        else:\n",
        "            print(\"Invalid grade\")\n",
        "\n",
        "s = Student(\"Alice\", 85)\n",
        "print(s.get_grade())   \n",
        "s.set_grade(95)         \n",
        "```"
      ],
      "metadata": {
        "id": "2WECqajqYflC"
      }
    },
    {
      "cell_type": "markdown",
      "source": [
        "**Que 9 :- What is a constructor in Python?**\n",
        "\n",
        "Ans:- In python a coustructor is a method defined as init, it is automatically invoked when the object is created.\n",
        "\n",
        "```\n",
        "class Person:\n",
        "    def __init__(self, name, age):\n",
        "        self.name = name     \n",
        "        self.age = age\n",
        "\n",
        "p = Person(\"Alice\", 25)  # Constructor is called automatically\n",
        "print(p.name)\n",
        "print(p.age)\n",
        "```"
      ],
      "metadata": {
        "id": "AZN5DCIEabUh"
      }
    },
    {
      "cell_type": "markdown",
      "source": [
        "**Que 10:- What are class and static methods in Python?**\n",
        "\n",
        "Ans:- Class methods and static methods in python are defined using decorators.\n",
        "\n",
        "Class Method\n",
        "\n",
        "Defined using @classmethod decorator.\n",
        "\n",
        "Takes cls as parameter\n",
        "\n",
        "```\n",
        "class Student:\n",
        "    school_name = \"Green High\"\n",
        "\n",
        "    @classmethod\n",
        "    def get_school(cls):\n",
        "        return cls.school_name\n",
        "```\n",
        "Static Method\n",
        "\n",
        "Defined using the @staticmethod decorator.\n",
        "\n",
        "It takes no parameter\n",
        "```\n",
        "class Math:\n",
        "    @staticmethod\n",
        "    def add(x, y):\n",
        "        return x + y\n",
        "```"
      ],
      "metadata": {
        "id": "41FDak2Ymc-q"
      }
    },
    {
      "cell_type": "markdown",
      "source": [
        "**Que 11:- What is method overloading in Python?**\n",
        "\n",
        "Ans:- Method overloading is the process in which multiple method can have same name but the parameters are different. Python achieves method overloading using\n",
        "**args and **kwargs.\n",
        "\n",
        "\n",
        "\n",
        "```\n",
        "class Calculator:\n",
        "    def add(self, *args):\n",
        "        return sum(args)\n",
        "\n",
        "calc = Calculator()\n",
        "print(calc.add(1, 2))      \n",
        "print(calc.add(1, 2, 3, 4))   \n",
        "```"
      ],
      "metadata": {
        "id": "pWLuKWHqpF78"
      }
    },
    {
      "cell_type": "markdown",
      "source": [
        "**Que 12:- What is method overriding in OOP?**\n",
        "\n",
        "Ans:- Method Overriding in Python allows a child class to provide a specific implementation of a method that is already defined in its parent class. The method in the child class must have the same name and parameters as the one in the parent class.\n",
        "\n",
        "```\n",
        "class Animal:\n",
        "    def sound(self):\n",
        "        return \"Some generic sound\"\n",
        "\n",
        "class Dog(Animal):\n",
        "    def sound(self):\n",
        "        return \"Bark\"\n",
        "\n",
        "class Cat(Animal):\n",
        "    def sound(self):\n",
        "        return \"Meow\"\n",
        "\n",
        "# Creating objects\n",
        "dog = Dog()\n",
        "cat = Cat()\n",
        "\n",
        "print(dog.sound())\n",
        "print(cat.sound())\n",
        "```"
      ],
      "metadata": {
        "id": "SqGGCzwiy4hG"
      }
    },
    {
      "cell_type": "markdown",
      "source": [
        "**Que 13:- What is property decorator in python?**\n",
        "\n",
        "Ans:- A property decorator in Python, denoted as @property, is a built-in decorator that is used to define methods that act as attributes, allowing you to encapsulate instance variables while maintaining a clean syntax."
      ],
      "metadata": {
        "id": "j9Essva3zhJJ"
      }
    },
    {
      "cell_type": "markdown",
      "source": [
        "**Que 14:- Why is polymorphism important in python?**\n",
        "\n",
        "Ans:- Polymorphism is important in python because of code reusability eg: A function can handle multiple shapes (Circle, Rectangle, Triangle) using the same method. Flexibility and scalability eg:- New classes can be added without altering existing code, as long as they implement the expected methods."
      ],
      "metadata": {
        "id": "C0xI0UdT0ex0"
      }
    },
    {
      "cell_type": "markdown",
      "source": [
        "**Que 15:- What is an abstract class in Python?**\n",
        "\n",
        "Ans:- An abstract class in Python is a class that cannot be instantiated and is designed to be a base class for other classes. It defines a common interface for subclasses but may include one or more abstract methods that must be implemented by any subclass."
      ],
      "metadata": {
        "id": "WbSob-3a1UdL"
      }
    },
    {
      "cell_type": "markdown",
      "source": [
        "**Que 16:- What are the advantages of oop?**\n",
        "\n",
        "Ans:- Advantages of oops are:-\n",
        "\n",
        "-> OOP promotes the creation of reusable classes, reducing code redundancy.\n",
        "\n",
        "-> OOP makes it easier to maintain and update code by using modular structures.\n",
        "\n",
        "-> Data and methods are bundled together, restricting access to certain components.\n",
        "\n",
        "-> OOP allows the implementation of complex logic while hiding unnecessary details.\n",
        "\n",
        "-> Classes can inherit properties and methods from other classes, promoting code reuse and reducing redundancy."
      ],
      "metadata": {
        "id": "nI_95Vns2UHS"
      }
    },
    {
      "cell_type": "markdown",
      "source": [
        "**Que 17:- What is the difference between a class variable and an instance variable?**\n",
        "\n",
        "Ans:- Differences between class variable and instance variable are:-\n",
        "\n",
        "-> \tClass vaiable is a variable that is shared among all instances of a class whereas an instance variable is a variable that is unique to each instance of a class.\n",
        "\n",
        "-> Class variable declared inside the class but outside any method whereas instance variable declared inside the __init__() method or other instance methods using self."
      ],
      "metadata": {
        "id": "obd6jOdw3T3V"
      }
    },
    {
      "cell_type": "markdown",
      "source": [
        "**Que 18:- What is multiplr inheritance in python?**\n",
        "\n",
        "Ans:- Multiple Inheritance in Python is a feature that allows a class to inherit attributes and methods from more than one parent class.\n",
        "\n",
        "Eg:-\n",
        "\n",
        "\n",
        "\n",
        "```\n",
        "class Parent1:\n",
        "    def method1(self):\n",
        "        print(\"Method from Parent1\")\n",
        "\n",
        "class Parent2:\n",
        "    def method2(self):\n",
        "        print(\"Method from Parent2\")\n",
        "\n",
        "class Child(Parent1, Parent2):\n",
        "    def method3(self):\n",
        "        print(\"Method from Child\")\n",
        "\n",
        "obj = Child()\n",
        "obj.method1()  \n",
        "obj.method2()  \n",
        "obj.method3()  \n",
        "```\n",
        "\n"
      ],
      "metadata": {
        "id": "yofeSb5T_5zo"
      }
    },
    {
      "cell_type": "markdown",
      "source": [
        "**Que 19:-**\n",
        "\n",
        "```\n",
        "Explain the purpose of __str__ and __repr__ methods in Python?\n",
        "```\n",
        "\n",
        "\n",
        "```\n",
        "In python __str__ and __repr__ are dunder methods.\n",
        "\n",
        "__str__ represent string reference to the object\n",
        "\n",
        "def __str__(self):\n",
        "    return \"Hi I am Utkarsh\"\n",
        "\n",
        "__repr__ provide a formal, unambiguous string representation of an object, ideally including information to recreate the object.\n",
        "```\n",
        "\n",
        "\n"
      ],
      "metadata": {
        "id": "Xk4vMOJcBMu8"
      }
    },
    {
      "cell_type": "markdown",
      "source": [
        "**Que 20:- What is the significance of the ‘super()’ function in Python**\n",
        "\n",
        "Ans:- The super() function in Python is used to call a method from the parent class in a child class. It is especially useful in inheritance to ensure that the parent class methods are properly executed.\n",
        "\n",
        "\n",
        "\n",
        "```\n",
        "super().method_name(arguments)\n",
        "```\n",
        "\n"
      ],
      "metadata": {
        "id": "8pOjtgpPCuGU"
      }
    },
    {
      "cell_type": "markdown",
      "source": [
        "**Que 21:-**\n",
        "\n",
        "```\n",
        "What is the significance of the __del__ method in Python?\n",
        "```\n",
        "\n",
        "\n",
        "```\n",
        "Ans:- The __del__() method in Python is a destructor method that is automatically called when an object is about to be destroyed or garbage collected. It is used to perform cleanup operations such as closing files, releasing resources, or logging before the object is removed from memory.\n",
        "\n",
        "Eg:-\n",
        "\n",
        "class ClassName:\n",
        "    def __del__(self):\n",
        "        print(f\"Object {self} is being deleted\")\n",
        "```\n",
        "\n",
        "\n",
        "\n"
      ],
      "metadata": {
        "id": "0pWUGPnTDM5u"
      }
    },
    {
      "cell_type": "markdown",
      "source": [
        "**Que 22:-What is the difference between @staticmethod and @classmethod in Python?**\n",
        "\n",
        "Ans:- A @staticmethod does not operate on the class or instance, but is logically related to the class whereas @classmethod operates on the class itself, not the instance.\n",
        "\n",
        "A @staticmethod has no default parameter (self or cls) whereas a classmethod takes cls as the first parameter, representing the class."
      ],
      "metadata": {
        "id": "sMn8Xh7qELQt"
      }
    },
    {
      "cell_type": "markdown",
      "source": [
        "**Que 23:- How does polymorphism work in Python with inheritance?**\n",
        "\n",
        "Ans:- Polymorphism in Python, when combined with inheritance, allows objects of different classes to be treated as objects of a common superclass. It enables method overriding, where a child class provides a specific implementation of a method that is already defined in the parent class.\n",
        "\n",
        "```\n",
        "class Animal:\n",
        "    def speak(self):\n",
        "        print(\"Animal makes a sound\")\n",
        "\n",
        "class Dog(Animal):\n",
        "    def speak(self):\n",
        "        print(\"Dog barks\")\n",
        "\n",
        "class Cat(Animal):\n",
        "    def speak(self):\n",
        "        print(\"Cat meows\")\n",
        "\n",
        "def animal_sound(animal):\n",
        "    animal.speak()\n",
        "\n",
        "dog = Dog()\n",
        "cat = Cat()\n",
        "\n",
        "animal_sound(dog)  # Output: Dog barks\n",
        "animal_sound(cat)  # Output: Cat meows\n",
        "\n",
        "\n",
        "```"
      ],
      "metadata": {
        "id": "0bXraEguFSGd"
      }
    },
    {
      "cell_type": "markdown",
      "source": [
        "**Que 24:-  What is method chaining in Python OOP?**\n",
        "\n",
        "Ans:- Method Chaining in Python is a technique that allows multiple method calls to be linked together in a single line. Each method returns the object itself, allowing the next method to be called on the same object without breaking the flow.\n",
        "\n",
        "object.method1().method2().method3()"
      ],
      "metadata": {
        "id": "Pz146XgYG_mk"
      }
    },
    {
      "cell_type": "markdown",
      "source": [
        "**Que 25:-**\n",
        "\n",
        "\n",
        "\n",
        "```\n",
        " What is the purpose of the __call__ method in Python?\n",
        "```\n",
        "\n",
        "Ans:-\n",
        "\n",
        "```\n",
        "The __call__() method in Python allows an instance of a class to be called like a regular function. When the __call__() method is implemented in a class, the object of that class can be invoked as if it were a function, enabling function-like behavior for objects.\n",
        "\n",
        "Eg:-\n",
        "\n",
        "class MyClass:\n",
        "    def __call__(self, *args, **kwargs):\n",
        "        print(\"Instance called as a function\", args, kwargs)\n",
        "\n",
        "obj = MyClass()\n",
        "\n",
        "obj(10, 20, key=\"value\")\n",
        "\n",
        "```"
      ],
      "metadata": {
        "id": "zEo0PeWsHSnl"
      }
    },
    {
      "cell_type": "markdown",
      "source": [],
      "metadata": {
        "id": "PRyGLfeQD8QL"
      }
    },
    {
      "cell_type": "markdown",
      "source": [
        "# **Practical Questions Python**"
      ],
      "metadata": {
        "id": "AaZD11HswdmE"
      }
    },
    {
      "cell_type": "code",
      "source": [
        "# Que 1:-   Create a parent class Animal with a method speak() that prints a generic message. Create a child class Dog that overrides the speak() method to print \"Bark!\".\n",
        "\n",
        "class Animal:\n",
        "    def speak(self):\n",
        "        print(\"Animal can't speak\")\n",
        "\n",
        "class Dog(Animal):\n",
        "    def speak(self):\n",
        "        print(\"Bark!\")\n",
        "\n",
        "\n",
        "animal = Animal()\n",
        "dog = Dog()\n",
        "\n",
        "animal.speak()\n",
        "dog.speak()\n"
      ],
      "metadata": {
        "colab": {
          "base_uri": "https://localhost:8080/"
        },
        "id": "DBDcyuKTwm-P",
        "outputId": "f42868a2-b08f-4c73-d4d9-ae89b1c2ef7c"
      },
      "execution_count": 1,
      "outputs": [
        {
          "output_type": "stream",
          "name": "stdout",
          "text": [
            "Animal can't speak\n",
            "Bark!\n"
          ]
        }
      ]
    },
    {
      "cell_type": "code",
      "source": [
        "# Que 2:- Write a program to create an abstract class Shape with a method area(). Derive classes Circle and Rectangle from it and implement the area() method in both.\n",
        "\n",
        "from abc import ABC, abstractmethod\n",
        "\n",
        "class Shape(ABC):\n",
        "    @abstractmethod\n",
        "    def area(self):\n",
        "        pass\n",
        "\n",
        "class Circle(Shape):\n",
        "    def __init__(self, radius):\n",
        "        self.radius = radius\n",
        "\n",
        "    def area(self):\n",
        "        return 3.14 * self.radius * self.radius\n",
        "\n",
        "class Rectangle(Shape):\n",
        "    def __init__(self, length, width):\n",
        "        self.length = length\n",
        "        self.width = width\n",
        "\n",
        "    def area(self):\n",
        "        return self.length * self.width\n",
        "\n",
        "circle = Circle(5)\n",
        "rectangle = Rectangle(4, 6)\n",
        "\n",
        "\n",
        "print(\"Area of Circle:\", circle.area())\n",
        "print(\"Area of Rectangle:\", rectangle.area())\n"
      ],
      "metadata": {
        "colab": {
          "base_uri": "https://localhost:8080/"
        },
        "id": "0iAVvmZ4xBRy",
        "outputId": "44a6e050-90dc-4b53-95aa-e7eab14c2da5"
      },
      "execution_count": 2,
      "outputs": [
        {
          "output_type": "stream",
          "name": "stdout",
          "text": [
            "Area of Circle: 78.5\n",
            "Area of Rectangle: 24\n"
          ]
        }
      ]
    },
    {
      "cell_type": "code",
      "source": [
        "# Que 3:- Implement a multi-level inheritance scenario where a class Vehicle has an attribute type. Derive a class Car and further derive a class ElectricCar that adds a battery attribute.\n",
        "\n",
        "class Vehicle:\n",
        "    def __init__(self, vehicle_type):\n",
        "        self.vehicle_type = vehicle_type\n",
        "\n",
        "\n",
        "class Car(Vehicle):\n",
        "    def __init__(self, vehicle_type, brand):\n",
        "        super().__init__(vehicle_type)\n",
        "        self.brand = brand\n",
        "\n",
        "class ElectricCar(Car):\n",
        "    def __init__(self, vehicle_type, brand, battery):\n",
        "        super().__init__(vehicle_type, brand)\n",
        "        self.battery = battery\n",
        "\n",
        "    def details(self):\n",
        "        print(f\"Type: {self.vehicle_type}, Brand: {self.brand}, Battery: {self.battery}\")\n",
        "\n",
        "e_car = ElectricCar(\"Electric\", \"Tesla\", \"75 kWh\")\n",
        "e_car.details()"
      ],
      "metadata": {
        "colab": {
          "base_uri": "https://localhost:8080/"
        },
        "id": "Nko_yqXlxd7c",
        "outputId": "dde9f5d5-f9ba-41c3-d046-3ae74ec0a387"
      },
      "execution_count": 3,
      "outputs": [
        {
          "output_type": "stream",
          "name": "stdout",
          "text": [
            "Type: Electric, Brand: Tesla, Battery: 75 kWh\n"
          ]
        }
      ]
    },
    {
      "cell_type": "code",
      "source": [
        "# Que 4:- . Demonstrate polymorphism by creating a base class Bird with a method fly(). Create two derived classes Sparrow and Penguin that override the fly() method.\n",
        "\n",
        "class Bird:\n",
        "    def fly(self):\n",
        "        print(\"Some birds can fly\")\n",
        "\n",
        "\n",
        "class Sparrow(Bird):\n",
        "    def fly(self):\n",
        "        print(\"Sparrow flies high\")\n",
        "\n",
        "class Penguin(Bird):\n",
        "    def fly(self):\n",
        "        print(\"Penguin cannot fly\")\n",
        "\n",
        "def bird_fly(bird):\n",
        "    bird.fly()\n",
        "\n",
        "sparrow = Sparrow()\n",
        "penguin = Penguin()\n",
        "\n",
        "bird_fly(sparrow)\n",
        "bird_fly(penguin)\n"
      ],
      "metadata": {
        "colab": {
          "base_uri": "https://localhost:8080/"
        },
        "id": "ZINwb2K25Z5m",
        "outputId": "7c732a33-a8da-4cb8-f910-671681ffac58"
      },
      "execution_count": 4,
      "outputs": [
        {
          "output_type": "stream",
          "name": "stdout",
          "text": [
            "Sparrow flies high\n",
            "Penguin cannot fly\n"
          ]
        }
      ]
    },
    {
      "cell_type": "code",
      "source": [
        "# Que 5:-Write a program to demonstrate encapsulation by creating a class BankAccount with private attributes balance and methods to deposit, withdraw, and check balance.\n",
        "\n",
        "class BankAccount:\n",
        "    def __init__(self, owner, balance=0):\n",
        "        self.__owner = owner\n",
        "        self.__balance = balance\n",
        "\n",
        "    def deposit(self, amount):\n",
        "        if amount > 0:\n",
        "            self.__balance += amount\n",
        "            print(f\"Deposited: {amount}\")\n",
        "        else:\n",
        "            print(\"Invalid deposit amount\")\n",
        "\n",
        "    def withdraw(self, amount):\n",
        "        if 0 < amount <= self.__balance:\n",
        "            self.__balance -= amount\n",
        "            print(f\"Withdrew: {amount}\")\n",
        "        else:\n",
        "            print(\"Insufficient balance or invalid amount\")\n",
        "\n",
        "    def check_balance(self):\n",
        "        print(f\"Balance: {self.__balance}\")\n",
        "\n",
        "account = BankAccount(\"Utkarsh Mishra\", 1000)\n",
        "\n",
        "\n",
        "account.deposit(500)\n",
        "account.withdraw(300)\n",
        "account.check_balance()\n"
      ],
      "metadata": {
        "colab": {
          "base_uri": "https://localhost:8080/"
        },
        "id": "Gmicaakv5_qJ",
        "outputId": "6236c45d-83da-4d5a-9793-1fc577510753"
      },
      "execution_count": 8,
      "outputs": [
        {
          "output_type": "stream",
          "name": "stdout",
          "text": [
            "Deposited: 500\n",
            "Withdrew: 300\n",
            "Balance: 1200\n"
          ]
        }
      ]
    },
    {
      "cell_type": "code",
      "source": [
        "# Que 6-  Demonstrate runtime polymorphism using a method play() in a base class Instrument. Derive classes Guitar and Piano that implement their own version of play().\n",
        "\n",
        "\n",
        "class Instrument:\n",
        "    def play(self):\n",
        "        print(\"Playing an instrument\")\n",
        "\n",
        "class Guitar(Instrument):\n",
        "    def play(self):\n",
        "        print(\"Have the guitar\")\n",
        "\n",
        "\n",
        "class Piano(Instrument):\n",
        "    def play(self):\n",
        "        print(\"Playing the piano\")\n",
        "\n",
        "def play_instrument(instrument):\n",
        "    instrument.play()\n",
        "\n",
        "\n",
        "guitar = Guitar()\n",
        "piano = Piano()\n",
        "\n",
        "play_instrument(guitar)\n",
        "play_instrument(piano)\n"
      ],
      "metadata": {
        "colab": {
          "base_uri": "https://localhost:8080/"
        },
        "id": "UnMbt8cq8Ch2",
        "outputId": "b3bb8f80-bef5-4353-d9de-5cb15935cd39"
      },
      "execution_count": 6,
      "outputs": [
        {
          "output_type": "stream",
          "name": "stdout",
          "text": [
            "Have the guitar\n",
            "Playing the piano\n"
          ]
        }
      ]
    },
    {
      "cell_type": "code",
      "source": [
        "# Que 7:-  Create a class MathOperations with a class method add_numbers() to add two numbers and a static method subtract_numbers() to subtract two numbers.\n",
        "\n",
        "class MathOperations:\n",
        "\n",
        "    @classmethod\n",
        "    def add_numbers(cls, a, b):\n",
        "        return a + b\n",
        "\n",
        "    @staticmethod\n",
        "    def subtract_numbers(a, b):\n",
        "        return a - b\n",
        "\n",
        "\n",
        "print(MathOperations.add_numbers(5, 3))\n",
        "\n",
        "print(MathOperations.subtract_numbers(10, 4))"
      ],
      "metadata": {
        "colab": {
          "base_uri": "https://localhost:8080/"
        },
        "id": "9zp7t_Gl9yWC",
        "outputId": "77a3a312-bb18-46ad-9a09-f3547ceef660"
      },
      "execution_count": 7,
      "outputs": [
        {
          "output_type": "stream",
          "name": "stdout",
          "text": [
            "8\n",
            "6\n"
          ]
        }
      ]
    },
    {
      "cell_type": "code",
      "source": [
        "# Que 8:- Implement a class Person with a class method to count the total number of persons created.\n",
        "\n",
        "class Person:\n",
        "    count = 0\n",
        "\n",
        "    def __init__(self, name):\n",
        "        self.name = name\n",
        "        Person.count += 1\n",
        "\n",
        "    @classmethod\n",
        "    def get_person_count(cls):\n",
        "        return cls.count\n",
        "\n",
        "\n",
        "p1 = Person(\"Utkarsh\")\n",
        "p2 = Person(\"Varun\")\n",
        "p3 = Person(\"Abhinav\")\n",
        "\n",
        "\n",
        "print(Person.get_person_count())"
      ],
      "metadata": {
        "colab": {
          "base_uri": "https://localhost:8080/"
        },
        "id": "xOstemXu_EG2",
        "outputId": "b52443fb-355c-478a-c216-689638019844"
      },
      "execution_count": 9,
      "outputs": [
        {
          "output_type": "stream",
          "name": "stdout",
          "text": [
            "3\n"
          ]
        }
      ]
    },
    {
      "cell_type": "code",
      "source": [
        "# Que 9:-Write a class Fraction with attributes numerator and denominator. Override the str method to display the fraction as \"numerator/denominator\".\n",
        "\n",
        "class Fraction:\n",
        "    def __init__(self, numerator, denominator):\n",
        "        self.numerator = numerator\n",
        "        self.denominator = denominator\n",
        "\n",
        "    def __str__(self):\n",
        "        return f\"{self.numerator}/{self.denominator}\"\n",
        "\n",
        "\n",
        "f1 = Fraction(3, 4)\n",
        "f2 = Fraction(5, 8)\n",
        "\n",
        "\n",
        "print(f1)\n",
        "print(f2)"
      ],
      "metadata": {
        "colab": {
          "base_uri": "https://localhost:8080/"
        },
        "id": "XheJkyXpFnSY",
        "outputId": "157b04fd-eb6f-4f9b-a1aa-f8e726708500"
      },
      "execution_count": 10,
      "outputs": [
        {
          "output_type": "stream",
          "name": "stdout",
          "text": [
            "3/4\n",
            "5/8\n"
          ]
        }
      ]
    },
    {
      "cell_type": "code",
      "source": [
        "# Que 10:-. Demonstrate operator overloading by creating a class Vector and overriding the add method to add two vectors.\n",
        "\n",
        "class Vector:\n",
        "    def __init__(self, x, y):\n",
        "        self.x = x\n",
        "        self.y = y\n",
        "\n",
        "    def __add__(self, other):\n",
        "        return Vector(self.x + other.x, self.y + other.y)\n",
        "\n",
        "    def __str__(self):\n",
        "        return f\"Vector({self.x}, {self.y})\"\n",
        "\n",
        "\n",
        "v1 = Vector(2, 3)\n",
        "v2 = Vector(4, 5)\n",
        "\n",
        "\n",
        "v3 = v1 + v2\n",
        "\n",
        "print(v3)\n"
      ],
      "metadata": {
        "colab": {
          "base_uri": "https://localhost:8080/"
        },
        "id": "kcLb4pX5NBnJ",
        "outputId": "26c87a92-4d3f-459b-c685-2d748a4cbe69"
      },
      "execution_count": 11,
      "outputs": [
        {
          "output_type": "stream",
          "name": "stdout",
          "text": [
            "Vector(6, 8)\n"
          ]
        }
      ]
    },
    {
      "cell_type": "code",
      "source": [
        "#Que 11:- . Create a class Person with attributes name and age. Add a method greet() that prints \"Hello, my name is {name} and I am {age} years old.\"\n",
        "\n",
        "class Person:\n",
        "    def __init__(self, name, age):\n",
        "        self.name = name\n",
        "        self.age = age\n",
        "\n",
        "    def greet(self):\n",
        "        print(f\"Hello, my name is {self.name} and I am {self.age} years old.\")\n",
        "\n",
        "p1 = Person(\"Utkarsh\", 27)\n",
        "p1.greet()\n"
      ],
      "metadata": {
        "colab": {
          "base_uri": "https://localhost:8080/"
        },
        "id": "irVbe1oFCO8N",
        "outputId": "78668b4d-c8d3-4b6d-eacd-6fb9d099cfbc"
      },
      "execution_count": 2,
      "outputs": [
        {
          "output_type": "stream",
          "name": "stdout",
          "text": [
            "Hello, my name is Utkarsh and I am 27 years old.\n"
          ]
        }
      ]
    },
    {
      "cell_type": "code",
      "source": [
        "#Que 12:-  Implement a class Student with attributes name and grades. Create a method average_grade() to compute the average of the grades\n",
        "\n",
        "class Student:\n",
        "    def __init__(self, name, grades):\n",
        "        self.name = name\n",
        "        self.grades = grades\n",
        "\n",
        "    def average_grade(self):\n",
        "        if len(self.grades) > 0:\n",
        "            return sum(self.grades) / len(self.grades)\n",
        "        return 0\n",
        "\n",
        "\n",
        "s1 = Student(\"Utkarsh\", [85, 90, 78, 92])\n",
        "print(f\"Average Grade for {s1.name}: {s1.average_grade()}\")\n"
      ],
      "metadata": {
        "colab": {
          "base_uri": "https://localhost:8080/"
        },
        "id": "jiDK5t_pC-Fk",
        "outputId": "6e41d8b8-ca23-42b3-c828-e76bbe0f45fc"
      },
      "execution_count": 3,
      "outputs": [
        {
          "output_type": "stream",
          "name": "stdout",
          "text": [
            "Average Grade for Utkarsh: 86.25\n"
          ]
        }
      ]
    },
    {
      "cell_type": "code",
      "source": [
        "#Que 13:- . Create a class Rectangle with methods set_dimensions() to set the dimensions and area() to calculate the area\n",
        "\n",
        "class Rectangle:\n",
        "    def __init__(self):\n",
        "        self.length = 0\n",
        "        self.width = 0\n",
        "\n",
        "    def set_dimensions(self, length, width):\n",
        "        self.length = length\n",
        "        self.width = width\n",
        "\n",
        "    def area(self):\n",
        "        return self.length * self.width\n",
        "\n",
        "\n",
        "rect = Rectangle()\n",
        "rect.set_dimensions(5, 3)\n",
        "print(f\"Area of Rectangle: {rect.area()}\")\n"
      ],
      "metadata": {
        "colab": {
          "base_uri": "https://localhost:8080/"
        },
        "id": "4ekfeg7JDl1a",
        "outputId": "99418098-7ea9-436f-a6db-f57c9d93d654"
      },
      "execution_count": 4,
      "outputs": [
        {
          "output_type": "stream",
          "name": "stdout",
          "text": [
            "Area of Rectangle: 15\n"
          ]
        }
      ]
    },
    {
      "cell_type": "code",
      "source": [
        "#Que 14:-  Create a class Employee with a method calculate_salary() that computes the salary based on hours worked and hourly rate. Create a derived class Manager that adds a bonus to the salary.\n",
        "\n",
        "\n",
        "class Employee:\n",
        "    def __init__(self, hours_worked, hourly_rate):\n",
        "        self.hours_worked = hours_worked\n",
        "        self.hourly_rate = hourly_rate\n",
        "\n",
        "    def calculate_salary(self):\n",
        "        return self.hours_worked * self.hourly_rate\n",
        "\n",
        "class Manager(Employee):\n",
        "    def __init__(self, hours_worked, hourly_rate, bonus):\n",
        "        super().__init__(hours_worked, hourly_rate)\n",
        "        self.bonus = bonus\n",
        "\n",
        "    def calculate_salary(self):\n",
        "        base_salary = super().calculate_salary()\n",
        "        return base_salary + self.bonus\n",
        "\n",
        "emp = Employee(160, 20)\n",
        "mgr = Manager(160, 30, 500)\n",
        "\n",
        "print(f\"Employee Salary: {emp.calculate_salary()}\")\n",
        "print(f\"Manager Salary: {mgr.calculate_salary()}\")\n"
      ],
      "metadata": {
        "colab": {
          "base_uri": "https://localhost:8080/"
        },
        "id": "pivikpT9EHfw",
        "outputId": "84c525bc-75fb-4da7-fb47-1078576fe79c"
      },
      "execution_count": 5,
      "outputs": [
        {
          "output_type": "stream",
          "name": "stdout",
          "text": [
            "Employee Salary: 3200\n",
            "Manager Salary: 5300\n"
          ]
        }
      ]
    },
    {
      "cell_type": "code",
      "source": [
        "#Que 15:-  Create a class Product with attributes name, price, and quantity. Implement a method total_price() that calculates the total price of the product\n",
        "\n",
        "\n",
        "class Product:\n",
        "    def __init__(self, name, price, quantity):\n",
        "        self.name = name\n",
        "        self.price = price\n",
        "        self.quantity = quantity\n",
        "\n",
        "    def total_price(self):\n",
        "        return self.price * self.quantity\n",
        "\n",
        "product1 = Product(\"Laptop\", 750, 2)\n",
        "print(f\"Total Price of {product1.name}: ${product1.total_price()}\")\n"
      ],
      "metadata": {
        "colab": {
          "base_uri": "https://localhost:8080/"
        },
        "id": "7ZMcqaySEfAL",
        "outputId": "c02c8e63-d621-4310-df71-bc8997adec95"
      },
      "execution_count": 6,
      "outputs": [
        {
          "output_type": "stream",
          "name": "stdout",
          "text": [
            "Total Price of Laptop: $1500\n"
          ]
        }
      ]
    },
    {
      "cell_type": "code",
      "source": [
        "#Que 16:-. Create a class Animal with an abstract method sound(). Create two derived classes Cow and Sheep that implement the sound() method\n",
        "\n",
        "from abc import ABC, abstractmethod\n",
        "\n",
        "class Animal(ABC):\n",
        "    @abstractmethod\n",
        "    def sound(self):\n",
        "        pass\n",
        "\n",
        "\n",
        "class Dog(Animal):\n",
        "    def sound(self):\n",
        "        return \"Bark\"\n",
        "\n",
        "class Cat(Animal):\n",
        "    def sound(self):\n",
        "        return \"Meow\"\n",
        "\n",
        "# Creating objects\n",
        "cat = Cat()\n",
        "dog = Dog()\n",
        "\n",
        "print(f\"Cat Sound: {cat.sound()}\")\n",
        "print(f\"Dog Sound: {dog.sound()}\")\n"
      ],
      "metadata": {
        "colab": {
          "base_uri": "https://localhost:8080/"
        },
        "id": "Njh7Un4RFESL",
        "outputId": "e569f86e-a7b1-4848-930b-ac1062cc5277"
      },
      "execution_count": 8,
      "outputs": [
        {
          "output_type": "stream",
          "name": "stdout",
          "text": [
            "Cat Sound: Meow\n",
            "Dog Sound: Bark\n"
          ]
        }
      ]
    },
    {
      "cell_type": "code",
      "source": [
        "#Que 17:-. Create a class Book with attributes title, author, and year_published. Add a method get_book_info() that returns a formatted string with the book's details.\n",
        "\n",
        "class Book:\n",
        "    def __init__(self, title, author, year_published):\n",
        "        self.title = title\n",
        "        self.author = author\n",
        "        self.year_published = year_published\n",
        "\n",
        "    def get_book_info(self):\n",
        "        return f\"'{self.title}' by {self.author}, published in {self.year_published}\"\n",
        "\n",
        "\n",
        "book1 = Book(\"Harry Potter\", \"JK Rowling\", 1995)\n",
        "print(book1.get_book_info())"
      ],
      "metadata": {
        "colab": {
          "base_uri": "https://localhost:8080/"
        },
        "id": "gMV9KDptFGP5",
        "outputId": "384a3a7a-dd10-4dae-dd86-a22b0a20f362"
      },
      "execution_count": 10,
      "outputs": [
        {
          "output_type": "stream",
          "name": "stdout",
          "text": [
            "'Harry Potter' by JK Rowling, published in 1995\n"
          ]
        }
      ]
    },
    {
      "cell_type": "code",
      "source": [
        "#Que 18:- Create a class House with attributes address and price. Create a derived class Mansion that adds an attribute number_of_rooms.\n",
        "\n",
        "\n",
        "class House:\n",
        "    def __init__(self, address, price):\n",
        "        self.address = address\n",
        "        self.price = price\n",
        "\n",
        "\n",
        "class Mansion(House):\n",
        "    def __init__(self, address, price, number_of_rooms):\n",
        "        super().__init__(address, price)\n",
        "        self.number_of_rooms = number_of_rooms\n",
        "\n",
        "    def mansion_info(self):\n",
        "        return f\"Address: {self.address}, Price: ${self.price}, Rooms: {self.number_of_rooms}\"\n",
        "\n",
        "\n",
        "house1 = House(\"HSR Sec 1\", 250000)\n",
        "mansion1 = Mansion(\"456 Luxury Lane\", 1000000, 10)\n",
        "\n",
        "print(mansion1.mansion_info())\n"
      ],
      "metadata": {
        "colab": {
          "base_uri": "https://localhost:8080/"
        },
        "id": "pwJCdAkMFGWx",
        "outputId": "83d9c498-941b-407d-d658-f34cf17fef93"
      },
      "execution_count": 11,
      "outputs": [
        {
          "output_type": "stream",
          "name": "stdout",
          "text": [
            "Address: 456 Luxury Lane, Price: $1000000, Rooms: 10\n"
          ]
        }
      ]
    }
  ]
}