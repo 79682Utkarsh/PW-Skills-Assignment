{
  "nbformat": 4,
  "nbformat_minor": 0,
  "metadata": {
    "colab": {
      "provenance": []
    },
    "kernelspec": {
      "name": "python3",
      "display_name": "Python 3"
    },
    "language_info": {
      "name": "python"
    }
  },
  "cells": [
    {
      "cell_type": "markdown",
      "source": [
        "**Que 1:- What is the difference between interpreted and compiled languages?**\n",
        "\n",
        "Ans:- Interpreted languages execute code line by line using an interpreter, while compiled languages convert the entire code into machine language beforehand, producing an executable file. Python is an interpreted language, whereas C++ is a compiled language.\n",
        "\n",
        "\n"
      ],
      "metadata": {
        "id": "kDWQMtrFLwK9"
      }
    },
    {
      "cell_type": "markdown",
      "source": [
        "**Que 2:- What is exception handling in Python?**\n",
        "\n",
        "Ans:- Exception handling in Python is a mechanism to catch and handle runtime errors using the try, except, finally, and else blocks, ensuring that the program continues to execute smoothly even after encountering errors.\n"
      ],
      "metadata": {
        "id": "-h30no2KOLFQ"
      }
    },
    {
      "cell_type": "markdown",
      "source": [
        "\n",
        "**Que 3:- What is the purpose of the finally block in exception handling?**\n",
        "\n",
        "Ans:-The finally block is used to execute code regardless of whether an exception is raised or not. It is typically used for cleanup tasks such as closing files or releasing resources.\n"
      ],
      "metadata": {
        "id": "uqKrxPn4Plls"
      }
    },
    {
      "cell_type": "markdown",
      "source": [
        "**Que 4:-  What is logging in Python?**\n",
        "\n",
        "Ans:- Logging in Python is the process of recording events, errors, and messages during program execution. It helps in debugging and monitoring applications by saving log information to files or displaying it on the console.\n"
      ],
      "metadata": {
        "id": "wzJzjeCeRS5s"
      }
    },
    {
      "cell_type": "markdown",
      "source": [
        "***Que 5:- What is the significance of the __del__ method in Python?***\n",
        "\n",
        "Ans:- The __del__ method, also known as the destructor, is called when an object is about to be destroyed. It is used to perform cleanup actions, such as closing files or releasing external resources."
      ],
      "metadata": {
        "id": "-nbAtz7eSXJk"
      }
    },
    {
      "cell_type": "markdown",
      "source": [
        "**Que 6:- What is the difference between import and from ... import in Python?**\n",
        "\n",
        "Ans:- The import statement imports an entire module, while the from ... import statement imports specific functions, classes, or variables from a module, making them directly accessible without the module prefix.\n",
        "\n"
      ],
      "metadata": {
        "id": "ivUmOmRRTZs9"
      }
    },
    {
      "cell_type": "markdown",
      "source": [
        "**Que 7:- How can you handle multiple exceptions in Python?**\n",
        "\n",
        "Ans:- Multiple exceptions can be handled using a single except block with a tuple of exception types or by specifying multiple except blocks for different exceptions. For example:\n",
        "\n",
        "```\n",
        "try:\n",
        "\n",
        "except (TypeError, ValueError):\n",
        "    \n",
        "\n",
        "```\n",
        "\n",
        "\n"
      ],
      "metadata": {
        "id": "PhJbWAbYV8Mq"
      }
    },
    {
      "cell_type": "markdown",
      "source": [
        "**Que 8:- What is the purpose of the with statement when handling files in Python?**\n",
        "\n",
        "Ans:- The with statement ensures proper acquisition and release of resources. When used with file handling, it automatically closes the file after the block is executed, even if an exception occurs."
      ],
      "metadata": {
        "id": "2WECqajqYflC"
      }
    },
    {
      "cell_type": "markdown",
      "source": [
        "**Que 9 :- What is the difference between multithreading and multiprocessing?**\n",
        "\n",
        "Ans:- Multithreading involves running multiple threads within a single process, sharing the same memory space, while multiprocessing creates multiple processes, each with its own memory, allowing parallel execution on multiple CPU cores."
      ],
      "metadata": {
        "id": "AZN5DCIEabUh"
      }
    },
    {
      "cell_type": "markdown",
      "source": [
        "**Que 10:- What are the advantages of using logging in a program?**\n",
        "\n",
        "Ans:- Logging helps in debugging by tracking events and errors, provides insight into program execution flow, aids in performance monitoring, and is useful for auditing and analyzing system behavior.\n",
        "\n"
      ],
      "metadata": {
        "id": "41FDak2Ymc-q"
      }
    },
    {
      "cell_type": "markdown",
      "source": [
        "**Que 11:- What is memory management in Python?**\n",
        "\n",
        "Ans:- Memory management in Python involves allocating, deallocating, and managing memory for objects using Python’s built-in garbage collector and dynamic memory allocation system.\n",
        "\n"
      ],
      "metadata": {
        "id": "pWLuKWHqpF78"
      }
    },
    {
      "cell_type": "markdown",
      "source": [
        "**Que 12:- What are the basic steps involved in exception handling in Python?**\n",
        "\n",
        "Ans:- The basic steps in exception handling include:\n",
        "\n",
        "Using a try block to wrap code that might raise an exception.\n",
        "\n",
        "Using except to catch specific exceptions.\n",
        "\n",
        "Using finally to execute cleanup code.\n",
        "\n",
        "Optionally using else to run code if no exception occurs."
      ],
      "metadata": {
        "id": "SqGGCzwiy4hG"
      }
    },
    {
      "cell_type": "markdown",
      "source": [
        "**Que 13:- Why is memory management important in Python?**\n",
        "\n",
        "Ans:- Memory management ensures optimal resource utilization, prevents memory leaks, and maintains application stability by efficiently handling memory allocation and deallocation."
      ],
      "metadata": {
        "id": "j9Essva3zhJJ"
      }
    },
    {
      "cell_type": "markdown",
      "source": [
        "**Que 14:- What is the role of try and except in exception handling?**\n",
        "\n",
        "Ans:- The try block is used to enclose code that might raise an exception, while the except block catches and handles the specific exceptions raised, preventing program termination."
      ],
      "metadata": {
        "id": "C0xI0UdT0ex0"
      }
    },
    {
      "cell_type": "markdown",
      "source": [
        "**Que 15:- How does Python's garbage collection system work?**\n",
        "\n",
        "Ans:- Python’s garbage collection uses reference counting and a cyclic garbage collector to identify and clean up unused objects to free memory.\n",
        "\n"
      ],
      "metadata": {
        "id": "WbSob-3a1UdL"
      }
    },
    {
      "cell_type": "markdown",
      "source": [
        "**Que 16:- What is the purpose of the else block in exception handling?**\n",
        "\n",
        "Ans:- The else block executes only if no exception occurs in the try block, allowing for the separation of successful operation code from exception handling code."
      ],
      "metadata": {
        "id": "nI_95Vns2UHS"
      }
    },
    {
      "cell_type": "markdown",
      "source": [
        "**Que 17:- What are the common logging levels in Python?**\n",
        "\n",
        "Ans:- The common logging levels are:\n",
        "\n",
        "DEBUG: Detailed diagnostic information.\n",
        "\n",
        "INFO: Confirmation of successful operations.\n",
        "\n",
        "WARNING: Potential issues or unexpected situations.\n",
        "\n",
        "ERROR: Errors that prevent some part of the program from functioning.\n",
        "\n",
        "CRITICAL: Severe errors causing premature program termination."
      ],
      "metadata": {
        "id": "obd6jOdw3T3V"
      }
    },
    {
      "cell_type": "markdown",
      "source": [
        "**Que 18:- What is the difference between os.fork() and multiprocessing in Python?**\n",
        "\n",
        "Ans:- os.fork() creates a new process as a child of the current process and is Unix/Linux-specific, whereas the multiprocessing module is platform-independent and provides higher-level APIs for process creation.\n",
        "\n"
      ],
      "metadata": {
        "id": "yofeSb5T_5zo"
      }
    },
    {
      "cell_type": "markdown",
      "source": [
        "**Que 19:- What is the importance of closing a file in Python?**\n",
        "\n",
        "\n",
        "Ans:- Closing a file ensures that all data is properly written to disk, releases system resources, and prevents potential memory leaks or data corruption.\n"
      ],
      "metadata": {
        "id": "Xk4vMOJcBMu8"
      }
    },
    {
      "cell_type": "markdown",
      "source": [
        "**Que 20:-  What is the difference between file.read() and file.readline() in Python?**\n",
        "\n",
        "Ans:- file.read() reads the entire file content as a single string, while file.readline() reads one line at a time, making it more memory efficient for large files."
      ],
      "metadata": {
        "id": "8pOjtgpPCuGU"
      }
    },
    {
      "cell_type": "markdown",
      "source": [
        "**Que 21:- What is the logging module in Python used for?**\n",
        "\n",
        "\n",
        "Ans:- The logging module provides a flexible framework for recording program events, errors, and diagnostic information to various output destinations such as files or the console.\n",
        "\n"
      ],
      "metadata": {
        "id": "0pWUGPnTDM5u"
      }
    },
    {
      "cell_type": "markdown",
      "source": [
        "**Que 22:-What is the os module in Python used for in file handling?**\n",
        "\n",
        "Ans:- The os module provides functions to interact with the operating system, including file handling operations such as creating, reading, renaming, and deleting files and directories.\n",
        "\n"
      ],
      "metadata": {
        "id": "sMn8Xh7qELQt"
      }
    },
    {
      "cell_type": "markdown",
      "source": [
        "**Que 23:- What are the challenges associated with memory management in Python?**\n",
        "\n",
        "Ans:- Challenges include managing memory leaks, handling circular references, and optimizing memory usage in applications with large data structures."
      ],
      "metadata": {
        "id": "0bXraEguFSGd"
      }
    },
    {
      "cell_type": "markdown",
      "source": [
        "**Que 24:-  How do you raise an exception manually in Python?**\n",
        "\n",
        "Ans:- An exception can be raised manually using the raise statement, e.g., raise ValueError(\"Invalid input\")."
      ],
      "metadata": {
        "id": "Pz146XgYG_mk"
      }
    },
    {
      "cell_type": "markdown",
      "source": [
        "**Que 25:- Why is it important to use multithreading in certain applications?**\n",
        "\n",
        "\n",
        "Ans:- Multithreading is crucial for improving performance in I/O-bound applications, enabling concurrent execution and minimizing idle CPU time during I/O operations."
      ],
      "metadata": {
        "id": "zEo0PeWsHSnl"
      }
    },
    {
      "cell_type": "markdown",
      "source": [
        "# **Practical Questions Python**"
      ],
      "metadata": {
        "id": "AaZD11HswdmE"
      }
    },
    {
      "cell_type": "code",
      "source": [
        "# Que 1:- How can you open a file for writing in Python and write a string to it?\".\n",
        "\n",
        "with open(\"output.txt\", \"w\") as file:\n",
        "    file.write(\"This is a sample file.\")\n",
        "    print(\"Content Written Successfully\")\n"
      ],
      "metadata": {
        "colab": {
          "base_uri": "https://localhost:8080/"
        },
        "id": "DBDcyuKTwm-P",
        "outputId": "04ae13af-a58a-4953-88a8-9056bab21e7c"
      },
      "execution_count": 4,
      "outputs": [
        {
          "output_type": "stream",
          "name": "stdout",
          "text": [
            "Content Written Successfully\n"
          ]
        }
      ]
    },
    {
      "cell_type": "code",
      "source": [
        "# Que 2:- Write a Python program to read the contents of a file and print each line.\n",
        "\n",
        "with open(\"output.txt\", \"r\") as file:\n",
        "    for line in file:\n",
        "        print(line.strip())\n",
        "\n"
      ],
      "metadata": {
        "colab": {
          "base_uri": "https://localhost:8080/"
        },
        "id": "0iAVvmZ4xBRy",
        "outputId": "eee83e7f-39a7-4098-b542-68e58b851272"
      },
      "execution_count": 6,
      "outputs": [
        {
          "output_type": "stream",
          "name": "stdout",
          "text": [
            "This is a sample file.\n",
            "\n",
            "Hello I am Utkarsh\n"
          ]
        }
      ]
    },
    {
      "cell_type": "code",
      "source": [
        "# Que 3:- How would you handle a case where the file doesn't exist while trying to open it for reading?\n",
        "\n",
        "try:\n",
        "    with open(\"nonexistent.txt\", \"r\") as file:\n",
        "        content = file.read()\n",
        "except FileNotFoundError:\n",
        "    print(\"File not found. Please check the file path.\")\n"
      ],
      "metadata": {
        "colab": {
          "base_uri": "https://localhost:8080/"
        },
        "id": "Nko_yqXlxd7c",
        "outputId": "24419252-4eaf-42b5-ac33-bb77f20e50bd"
      },
      "execution_count": 7,
      "outputs": [
        {
          "output_type": "stream",
          "name": "stdout",
          "text": [
            "File not found. Please check the file path.\n"
          ]
        }
      ]
    },
    {
      "cell_type": "code",
      "source": [
        "# Que 4:-  Write a Python script that reads from one file and writes its content to another file.\n",
        "\n",
        "with open(\"output.txt\", \"r\") as source_file:\n",
        "    content = source_file.read()\n",
        "\n",
        "with open(\"destination.txt\", \"w\") as destination_file:\n",
        "    destination_file.write(content)\n",
        "    print(\"Content Copied Successfully\")\n",
        "\n",
        "with open(\"destination.txt\", \"r\") as destination_file:\n",
        "  for line in destination_file:\n",
        "        print(line.strip())\n"
      ],
      "metadata": {
        "colab": {
          "base_uri": "https://localhost:8080/"
        },
        "id": "ZINwb2K25Z5m",
        "outputId": "b04a0773-a3b1-4d52-c062-ebc05f2c62dc"
      },
      "execution_count": 12,
      "outputs": [
        {
          "output_type": "stream",
          "name": "stdout",
          "text": [
            "Content Copied Successfully\n",
            "This is a sample file.\n",
            "\n",
            "Hello I am Utkarsh\n"
          ]
        }
      ]
    },
    {
      "cell_type": "code",
      "source": [
        "# Que 5:-How would you catch and handle division by zero error in Python?\n",
        "\n",
        "try:\n",
        "    result = 10 / 0\n",
        "except ZeroDivisionError:\n",
        "    print(\"Division by zero is not allowed.\")\n"
      ],
      "metadata": {
        "colab": {
          "base_uri": "https://localhost:8080/"
        },
        "id": "Gmicaakv5_qJ",
        "outputId": "9396d5d5-39c2-4a18-ff02-c7607f053b07"
      },
      "execution_count": 13,
      "outputs": [
        {
          "output_type": "stream",
          "name": "stdout",
          "text": [
            "Division by zero is not allowed.\n"
          ]
        }
      ]
    },
    {
      "cell_type": "code",
      "source": [
        "# Que 6- Write a Python program that logs an error message to a log file when a division by zero exception occurs.\n",
        "\n",
        "import logging\n",
        "\n",
        "logging.basicConfig(filename=\"error.log\", level=logging.ERROR)\n",
        "\n",
        "try:\n",
        "    result = 10 / 0\n",
        "except ZeroDivisionError:\n",
        "    logging.error(\"Division by zero occurred.\")\n"
      ],
      "metadata": {
        "colab": {
          "base_uri": "https://localhost:8080/"
        },
        "id": "UnMbt8cq8Ch2",
        "outputId": "a570133d-9e01-4e3a-b550-2e2cdc72b02f"
      },
      "execution_count": 14,
      "outputs": [
        {
          "output_type": "stream",
          "name": "stderr",
          "text": [
            "ERROR:root:Division by zero occurred.\n"
          ]
        }
      ]
    },
    {
      "cell_type": "code",
      "source": [
        "# Que 7:- How do you log information at different levels (INFO, ERROR, WARNING) in Python using the logging module?\n",
        "\n",
        "import logging\n",
        "\n",
        "logging.basicConfig(filename=\"app.log\", level=logging.DEBUG)\n",
        "\n",
        "logging.info(\"This is an informational message.\")\n",
        "logging.warning(\"This is a warning message.\")\n",
        "logging.error(\"This is an error message.\")\n"
      ],
      "metadata": {
        "colab": {
          "base_uri": "https://localhost:8080/"
        },
        "id": "9zp7t_Gl9yWC",
        "outputId": "a010cfcc-e8ba-453e-ecc3-70b338315914"
      },
      "execution_count": 15,
      "outputs": [
        {
          "output_type": "stream",
          "name": "stderr",
          "text": [
            "WARNING:root:This is a warning message.\n",
            "ERROR:root:This is an error message.\n"
          ]
        }
      ]
    },
    {
      "cell_type": "code",
      "source": [
        "# Que 8:- Write a program to handle a file opening error using exception handling.\n",
        "\n",
        "try:\n",
        "    with open(\"data.txt\", \"r\") as file:\n",
        "        content = file.read()\n",
        "except FileNotFoundError:\n",
        "    print(\"File not found. Ensure the file path is correct.\")\n",
        "\n"
      ],
      "metadata": {
        "colab": {
          "base_uri": "https://localhost:8080/"
        },
        "id": "xOstemXu_EG2",
        "outputId": "40bc47dd-aa9a-424e-8d25-ac7b9b964269"
      },
      "execution_count": 16,
      "outputs": [
        {
          "output_type": "stream",
          "name": "stdout",
          "text": [
            "File not found. Ensure the file path is correct.\n"
          ]
        }
      ]
    },
    {
      "cell_type": "code",
      "source": [
        "# Que 9:- How can you read a file line by line and store its content in a list in Python?\n",
        "\n",
        "lines = []\n",
        "with open(\"output.txt\", \"r\") as file:\n",
        "    lines = [line.strip() for line in file]\n",
        "\n",
        "print(lines)\n"
      ],
      "metadata": {
        "colab": {
          "base_uri": "https://localhost:8080/"
        },
        "id": "XheJkyXpFnSY",
        "outputId": "00f1a872-11e9-4302-d572-b413c947d04e"
      },
      "execution_count": 17,
      "outputs": [
        {
          "output_type": "stream",
          "name": "stdout",
          "text": [
            "['This is a sample file.', '', 'Hello I am Utkarsh']\n"
          ]
        }
      ]
    },
    {
      "cell_type": "code",
      "source": [
        "# Que 10:-.  How can you append data to an existing file in Python?\n",
        "\n",
        "with open(\"output.txt\", \"a\") as file:\n",
        "    file.write(\"\\nNew data to be appended.\")\n",
        "    print(\"Data Appended Successfully\")\n",
        "\n",
        "with open(\"output.txt\", \"r\") as file:\n",
        "  for line in file:\n",
        "        print(line.strip())\n"
      ],
      "metadata": {
        "colab": {
          "base_uri": "https://localhost:8080/"
        },
        "id": "kcLb4pX5NBnJ",
        "outputId": "1f88b8b1-d4cf-4ff7-c9bc-de7eefd67739"
      },
      "execution_count": 20,
      "outputs": [
        {
          "output_type": "stream",
          "name": "stdout",
          "text": [
            "Data Appended Successfully\n",
            "This is a sample file.\n",
            "\n",
            "Hello I am Utkarsh\n",
            "New data to be appended.\n"
          ]
        }
      ]
    },
    {
      "cell_type": "code",
      "source": [
        "#Que 11:-  Write a Python program that uses a try-except block to handle an error when attempting to access a dictionary key that doesn't exist.\n",
        "\n",
        "data = {\"name\": \"Utkarsh\", \"age\": 27}\n",
        "\n",
        "try:\n",
        "    print(data[\"address\"])\n",
        "except KeyError:\n",
        "    print(\"Key not found in the dictionary.\")\n"
      ],
      "metadata": {
        "colab": {
          "base_uri": "https://localhost:8080/"
        },
        "id": "irVbe1oFCO8N",
        "outputId": "42b14f07-a9eb-4db1-98d0-6d4537e8b272"
      },
      "execution_count": 21,
      "outputs": [
        {
          "output_type": "stream",
          "name": "stdout",
          "text": [
            "Key not found in the dictionary.\n"
          ]
        }
      ]
    },
    {
      "cell_type": "code",
      "source": [
        "#Que 12:- Write a program that demonstrates using multiple except blocks to handle different types of exceptions.\n",
        "\n",
        "try:\n",
        "    num = int(input(\"Enter a number: \"))\n",
        "    result = 10 / num\n",
        "    lst = [1, 2, 3]\n",
        "    print(lst[5])\n",
        "except ZeroDivisionError:\n",
        "    print(\"Cannot divide by zero.\")\n",
        "except ValueError:\n",
        "    print(\"Invalid input. Enter a number.\")\n",
        "except IndexError:\n",
        "    print(\"List index out of range.\")\n",
        "\n"
      ],
      "metadata": {
        "colab": {
          "base_uri": "https://localhost:8080/"
        },
        "id": "jiDK5t_pC-Fk",
        "outputId": "ce08cc0f-be52-4992-8c04-002b5beab4a4"
      },
      "execution_count": 22,
      "outputs": [
        {
          "output_type": "stream",
          "name": "stdout",
          "text": [
            "Enter a number: 20\n",
            "List index out of range.\n"
          ]
        }
      ]
    },
    {
      "cell_type": "code",
      "source": [
        "#Que 13:- How would you check if a file exists before attempting to read it in Python?\n",
        "\n",
        "import os\n",
        "\n",
        "file_path = \"output.txt\"\n",
        "\n",
        "if os.path.exists(file_path):\n",
        "    with open(file_path, \"r\") as file:\n",
        "        print(file.read())\n",
        "else:\n",
        "    print(\"File does not exist.\")\n",
        "\n"
      ],
      "metadata": {
        "colab": {
          "base_uri": "https://localhost:8080/"
        },
        "id": "4ekfeg7JDl1a",
        "outputId": "de713a71-4284-4465-96b4-10fca451850e"
      },
      "execution_count": 23,
      "outputs": [
        {
          "output_type": "stream",
          "name": "stdout",
          "text": [
            "This is a sample file.\n",
            "\n",
            "Hello I am Utkarsh\n",
            "New data to be appended.\n"
          ]
        }
      ]
    },
    {
      "cell_type": "code",
      "source": [
        "#Que 14:- Write a program that uses the logging module to log both informational and error messages.\n",
        "\n",
        "import logging\n",
        "\n",
        "logging.basicConfig(filename=\"app.log\", level=logging.INFO)\n",
        "\n",
        "logging.info(\"Application started.\")\n",
        "\n",
        "try:\n",
        "    result = 10 / 0\n",
        "except ZeroDivisionError:\n",
        "    logging.error(\"Division by zero occurred.\")\n"
      ],
      "metadata": {
        "colab": {
          "base_uri": "https://localhost:8080/"
        },
        "id": "pivikpT9EHfw",
        "outputId": "c95a5de3-9b1e-4223-aac0-29cd272de3cb"
      },
      "execution_count": 24,
      "outputs": [
        {
          "output_type": "stream",
          "name": "stderr",
          "text": [
            "ERROR:root:Division by zero occurred.\n"
          ]
        }
      ]
    },
    {
      "cell_type": "code",
      "source": [
        "#Que 15:- Write a Python program that prints the content of a file and handles the case when the file is empty.\n",
        "\n",
        "file_path = \"destination.txt\"\n",
        "\n",
        "try:\n",
        "    with open(file_path, \"r\") as file:\n",
        "        content = file.read()\n",
        "        if content:\n",
        "            print(content)\n",
        "        else:\n",
        "            print(\"File is empty.\")\n",
        "except FileNotFoundError:\n",
        "    print(\"File not found.\")\n"
      ],
      "metadata": {
        "colab": {
          "base_uri": "https://localhost:8080/"
        },
        "id": "7ZMcqaySEfAL",
        "outputId": "c56dd5b1-b2e2-4e8b-eb5d-d74aaaa22c6f"
      },
      "execution_count": 27,
      "outputs": [
        {
          "output_type": "stream",
          "name": "stdout",
          "text": [
            "This is a sample file.\n",
            "\n",
            "Hello I am Utkarsh\n"
          ]
        }
      ]
    },
    {
      "cell_type": "code",
      "source": [
        "#Que 16:- Demonstrate how to use memory profiling to check the memory usage of a small program.\n",
        "\n",
        "!pip install -q memory_profiler\n",
        "\n",
        "from memory_profiler import memory_usage\n",
        "\n",
        "def calculate_square():\n",
        "    numbers = [i ** 2 for i in range(100)]\n",
        "    return numbers\n",
        "\n",
        "memory_used = memory_usage((calculate_square,))\n",
        "print(f\"Memory used: {memory_used[0]} MB\")\n"
      ],
      "metadata": {
        "colab": {
          "base_uri": "https://localhost:8080/"
        },
        "id": "Njh7Un4RFESL",
        "outputId": "ae5939ee-4cf7-4db2-cfba-053df1cc1fc0"
      },
      "execution_count": 31,
      "outputs": [
        {
          "output_type": "stream",
          "name": "stdout",
          "text": [
            "Memory used: 116.68359375 MB\n"
          ]
        }
      ]
    },
    {
      "cell_type": "code",
      "source": [
        "#Que 17:- Write a Python program to create and write a list of numbers to a file, one number per line.\n",
        "\n",
        "numbers = [1, 2, 3, 4, 5]\n",
        "\n",
        "with open(\"numbers.txt\", \"w\") as file:\n",
        "    for num in numbers:\n",
        "        file.write(f\"{num}\\n\")\n",
        "\n",
        "with open(\"numbers.txt\", \"r\") as file:\n",
        "    for line in file:\n",
        "        print(line.strip())\n"
      ],
      "metadata": {
        "colab": {
          "base_uri": "https://localhost:8080/"
        },
        "id": "gMV9KDptFGP5",
        "outputId": "3d998458-c98d-4683-d6ca-dfa508c31219"
      },
      "execution_count": 33,
      "outputs": [
        {
          "output_type": "stream",
          "name": "stdout",
          "text": [
            "1\n",
            "2\n",
            "3\n",
            "4\n",
            "5\n"
          ]
        }
      ]
    },
    {
      "cell_type": "code",
      "source": [
        "#Que 18:-  How would you implement a basic logging setup that logs to a file with rotation after 1MB?\n",
        "\n",
        "import logging\n",
        "from logging.handlers import RotatingFileHandler\n",
        "\n",
        "handler = RotatingFileHandler(\"rotating_log.log\", maxBytes=1024 * 1024, backupCount=5)\n",
        "logging.basicConfig(level=logging.INFO, handlers=[handler])\n",
        "\n",
        "logging.info(\"This is a log message.\")\n"
      ],
      "metadata": {
        "id": "pwJCdAkMFGWx"
      },
      "execution_count": 37,
      "outputs": []
    },
    {
      "cell_type": "code",
      "source": [
        "#Que 19:- Write a program that handles both IndexError and KeyError using a try-except block.\n",
        "\n",
        "data = {\"name\": \"Utkarsh\"}\n",
        "lst = [1, 2, 3]\n",
        "\n",
        "try:\n",
        "    print(data[\"age\"])\n",
        "    print(lst[5])\n",
        "except KeyError:\n",
        "    print(\"Key not found in the dictionary.\")\n",
        "except IndexError:\n",
        "    print(\"List index out of range.\")\n"
      ],
      "metadata": {
        "colab": {
          "base_uri": "https://localhost:8080/"
        },
        "id": "fdREFeJGQ5pW",
        "outputId": "87f61931-1289-402d-a324-d24578251ac5"
      },
      "execution_count": 38,
      "outputs": [
        {
          "output_type": "stream",
          "name": "stdout",
          "text": [
            "Key not found in the dictionary.\n"
          ]
        }
      ]
    },
    {
      "cell_type": "code",
      "source": [
        "#Que 20:- How would you open a file and read its contents using a context manager in Python?\n",
        "\n",
        "with open(\"output.txt\", \"r\") as file:\n",
        "    content = file.read()\n",
        "    print(content)"
      ],
      "metadata": {
        "colab": {
          "base_uri": "https://localhost:8080/"
        },
        "id": "E_jTCSCYRmyO",
        "outputId": "39cefb5f-2c81-43e1-bf24-2aa801ae675b"
      },
      "execution_count": 39,
      "outputs": [
        {
          "output_type": "stream",
          "name": "stdout",
          "text": [
            "This is a sample file.\n",
            "\n",
            "Hello I am Utkarsh\n",
            "New data to be appended.\n"
          ]
        }
      ]
    },
    {
      "cell_type": "code",
      "source": [
        "#Que 21:- Write a Python program that reads a file and prints the number of occurrences of a specific word.\n",
        "\n",
        "word_to_count = \"Utkarsh\"\n",
        "count = 0\n",
        "\n",
        "with open(\"output.txt\", \"r\") as file:\n",
        "    for line in file:\n",
        "        count += line.count(word_to_count)\n",
        "\n",
        "print(f\"The word '{word_to_count}' occurred {count} times.\")"
      ],
      "metadata": {
        "colab": {
          "base_uri": "https://localhost:8080/"
        },
        "id": "7cLoKlPDRxwD",
        "outputId": "609d2c64-df2f-439e-b56b-c847fe3a3c23"
      },
      "execution_count": 41,
      "outputs": [
        {
          "output_type": "stream",
          "name": "stdout",
          "text": [
            "The word 'Utkarsh' occurred 1 times.\n"
          ]
        }
      ]
    },
    {
      "cell_type": "code",
      "source": [
        "#Que 22:- How can you check if a file is empty before attempting to read its contents?\n",
        "\n",
        "import os\n",
        "\n",
        "file_path = \"output.txt\"\n",
        "\n",
        "if os.path.exists(file_path) and os.path.getsize(file_path) > 0:\n",
        "    with open(file_path, \"r\") as file:\n",
        "        print(file.read())\n",
        "else:\n",
        "    print(\"File is empty or does not exist.\")\n"
      ],
      "metadata": {
        "colab": {
          "base_uri": "https://localhost:8080/"
        },
        "id": "lb6XTSuOSB6c",
        "outputId": "e4062ebd-0868-4bb0-dc06-69e2e7fd8bc9"
      },
      "execution_count": 42,
      "outputs": [
        {
          "output_type": "stream",
          "name": "stdout",
          "text": [
            "This is a sample file.\n",
            "\n",
            "Hello I am Utkarsh\n",
            "New data to be appended.\n"
          ]
        }
      ]
    },
    {
      "cell_type": "code",
      "source": [
        "#Que 23:- Write a Python program that writes to a log file when an error occurs during file handling.\n",
        "\n",
        "import logging\n",
        "\n",
        "logging.basicConfig(filename=\"file_errors.log\", level=logging.ERROR)\n",
        "\n",
        "try:\n",
        "    with open(\"nonexistent_file.txt\", \"r\") as file:\n",
        "        content = file.read()\n",
        "except FileNotFoundError as e:\n",
        "    logging.error(f\"Error occurred: {e}\")\n"
      ],
      "metadata": {
        "colab": {
          "base_uri": "https://localhost:8080/"
        },
        "id": "_P5lvB2hSOE6",
        "outputId": "201f91ca-267b-4715-b4ff-7594be29b5ca"
      },
      "execution_count": 43,
      "outputs": [
        {
          "output_type": "stream",
          "name": "stderr",
          "text": [
            "ERROR:root:Error occurred: [Errno 2] No such file or directory: 'nonexistent_file.txt'\n"
          ]
        }
      ]
    }
  ]
}